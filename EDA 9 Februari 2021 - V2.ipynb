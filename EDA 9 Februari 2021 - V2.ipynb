{
 "cells": [
  {
   "cell_type": "markdown",
   "metadata": {},
   "source": [
    "### Import Library"
   ]
  },
  {
   "cell_type": "code",
   "execution_count": 1,
   "metadata": {
    "ExecuteTime": {
     "end_time": "2021-02-26T15:52:50.603770Z",
     "start_time": "2021-02-26T15:52:48.503669Z"
    }
   },
   "outputs": [],
   "source": [
    "from sklearn.preprocessing import LabelEncoder\n",
    "from imblearn.under_sampling import CondensedNearestNeighbour\n",
    "from collections import Counter\n",
    "from sklearn.model_selection import cross_val_score\n",
    "from sklearn.ensemble import RandomForestClassifier\n",
    "import xgboost as xgb\n",
    "import seaborn as sns\n",
    "import matplotlib.pyplot as plt\n",
    "import pandas as pd\n",
    "import numpy as np"
   ]
  },
  {
   "cell_type": "markdown",
   "metadata": {},
   "source": [
    "### EDA "
   ]
  },
  {
   "cell_type": "code",
   "execution_count": 2,
   "metadata": {
    "ExecuteTime": {
     "end_time": "2021-02-26T15:52:50.674300Z",
     "start_time": "2021-02-26T15:52:50.603770Z"
    }
   },
   "outputs": [
    {
     "data": {
      "text/html": [
       "<div>\n",
       "<style scoped>\n",
       "    .dataframe tbody tr th:only-of-type {\n",
       "        vertical-align: middle;\n",
       "    }\n",
       "\n",
       "    .dataframe tbody tr th {\n",
       "        vertical-align: top;\n",
       "    }\n",
       "\n",
       "    .dataframe thead th {\n",
       "        text-align: right;\n",
       "    }\n",
       "</style>\n",
       "<table border=\"1\" class=\"dataframe\">\n",
       "  <thead>\n",
       "    <tr style=\"text-align: right;\">\n",
       "      <th></th>\n",
       "      <th>job_level</th>\n",
       "      <th>job_duration_in_current_job_level</th>\n",
       "      <th>person_level</th>\n",
       "      <th>job_duration_in_current_person_level</th>\n",
       "      <th>job_duration_in_current_branch</th>\n",
       "      <th>Employee_type</th>\n",
       "      <th>gender</th>\n",
       "      <th>age</th>\n",
       "      <th>marital_status_maried(Y/N)</th>\n",
       "      <th>number_of_dependences</th>\n",
       "      <th>...</th>\n",
       "      <th>year_graduated</th>\n",
       "      <th>job_duration_from_training</th>\n",
       "      <th>branch_rotation</th>\n",
       "      <th>job_rotation</th>\n",
       "      <th>assign_of_otherposition</th>\n",
       "      <th>annual leave</th>\n",
       "      <th>sick_leaves</th>\n",
       "      <th>Last_achievement_%</th>\n",
       "      <th>Achievement_above_100%_during3quartal</th>\n",
       "      <th>Best Performance</th>\n",
       "    </tr>\n",
       "  </thead>\n",
       "  <tbody>\n",
       "    <tr>\n",
       "      <th>0</th>\n",
       "      <td>JG04</td>\n",
       "      <td>1.352775</td>\n",
       "      <td>PG03</td>\n",
       "      <td>1.352775</td>\n",
       "      <td>1.732051</td>\n",
       "      <td>RM_type_A</td>\n",
       "      <td>2</td>\n",
       "      <td>1985</td>\n",
       "      <td>Y</td>\n",
       "      <td>1</td>\n",
       "      <td>...</td>\n",
       "      <td>2011</td>\n",
       "      <td>4</td>\n",
       "      <td>2</td>\n",
       "      <td>3</td>\n",
       "      <td>2</td>\n",
       "      <td>3</td>\n",
       "      <td>0</td>\n",
       "      <td>46.37</td>\n",
       "      <td>0.0</td>\n",
       "      <td>0</td>\n",
       "    </tr>\n",
       "    <tr>\n",
       "      <th>1</th>\n",
       "      <td>JG04</td>\n",
       "      <td>1.292285</td>\n",
       "      <td>PG03</td>\n",
       "      <td>1.292285</td>\n",
       "      <td>1.039230</td>\n",
       "      <td>RM_type_A</td>\n",
       "      <td>2</td>\n",
       "      <td>1989</td>\n",
       "      <td>Y</td>\n",
       "      <td>0</td>\n",
       "      <td>...</td>\n",
       "      <td>2007</td>\n",
       "      <td>4</td>\n",
       "      <td>4</td>\n",
       "      <td>3</td>\n",
       "      <td>0</td>\n",
       "      <td>0</td>\n",
       "      <td>1</td>\n",
       "      <td>47.68</td>\n",
       "      <td>0.0</td>\n",
       "      <td>0</td>\n",
       "    </tr>\n",
       "    <tr>\n",
       "      <th>2</th>\n",
       "      <td>JG05</td>\n",
       "      <td>2.565151</td>\n",
       "      <td>PG06</td>\n",
       "      <td>2.308679</td>\n",
       "      <td>1.780449</td>\n",
       "      <td>RM_type_C</td>\n",
       "      <td>1</td>\n",
       "      <td>1970</td>\n",
       "      <td>Y</td>\n",
       "      <td>1</td>\n",
       "      <td>...</td>\n",
       "      <td>1989</td>\n",
       "      <td>28</td>\n",
       "      <td>10</td>\n",
       "      <td>9</td>\n",
       "      <td>6</td>\n",
       "      <td>2</td>\n",
       "      <td>1</td>\n",
       "      <td>40.73</td>\n",
       "      <td>0.0</td>\n",
       "      <td>0</td>\n",
       "    </tr>\n",
       "    <tr>\n",
       "      <th>3</th>\n",
       "      <td>JG05</td>\n",
       "      <td>2.828427</td>\n",
       "      <td>PG06</td>\n",
       "      <td>1.000000</td>\n",
       "      <td>1.385641</td>\n",
       "      <td>RM_type_A</td>\n",
       "      <td>2</td>\n",
       "      <td>1967</td>\n",
       "      <td>Y</td>\n",
       "      <td>2</td>\n",
       "      <td>...</td>\n",
       "      <td>1987</td>\n",
       "      <td>29</td>\n",
       "      <td>11</td>\n",
       "      <td>6</td>\n",
       "      <td>0</td>\n",
       "      <td>4</td>\n",
       "      <td>10</td>\n",
       "      <td>47.42</td>\n",
       "      <td>0.0</td>\n",
       "      <td>1</td>\n",
       "    </tr>\n",
       "    <tr>\n",
       "      <th>4</th>\n",
       "      <td>JG05</td>\n",
       "      <td>2.828427</td>\n",
       "      <td>PG06</td>\n",
       "      <td>2.828427</td>\n",
       "      <td>0.707107</td>\n",
       "      <td>RM_type_A</td>\n",
       "      <td>2</td>\n",
       "      <td>1965</td>\n",
       "      <td>Y</td>\n",
       "      <td>3</td>\n",
       "      <td>...</td>\n",
       "      <td>1985</td>\n",
       "      <td>30</td>\n",
       "      <td>9</td>\n",
       "      <td>8</td>\n",
       "      <td>2</td>\n",
       "      <td>3</td>\n",
       "      <td>0</td>\n",
       "      <td>47.18</td>\n",
       "      <td>0.0</td>\n",
       "      <td>0</td>\n",
       "    </tr>\n",
       "    <tr>\n",
       "      <th>...</th>\n",
       "      <td>...</td>\n",
       "      <td>...</td>\n",
       "      <td>...</td>\n",
       "      <td>...</td>\n",
       "      <td>...</td>\n",
       "      <td>...</td>\n",
       "      <td>...</td>\n",
       "      <td>...</td>\n",
       "      <td>...</td>\n",
       "      <td>...</td>\n",
       "      <td>...</td>\n",
       "      <td>...</td>\n",
       "      <td>...</td>\n",
       "      <td>...</td>\n",
       "      <td>...</td>\n",
       "      <td>...</td>\n",
       "      <td>...</td>\n",
       "      <td>...</td>\n",
       "      <td>...</td>\n",
       "      <td>...</td>\n",
       "      <td>...</td>\n",
       "    </tr>\n",
       "    <tr>\n",
       "      <th>11148</th>\n",
       "      <td>JG04</td>\n",
       "      <td>1.256981</td>\n",
       "      <td>PG03</td>\n",
       "      <td>1.256981</td>\n",
       "      <td>1.224745</td>\n",
       "      <td>RM_type_A</td>\n",
       "      <td>2</td>\n",
       "      <td>1986</td>\n",
       "      <td>Y</td>\n",
       "      <td>1</td>\n",
       "      <td>...</td>\n",
       "      <td>2016</td>\n",
       "      <td>4</td>\n",
       "      <td>3</td>\n",
       "      <td>3</td>\n",
       "      <td>0</td>\n",
       "      <td>4</td>\n",
       "      <td>1</td>\n",
       "      <td>50.87</td>\n",
       "      <td>0.0</td>\n",
       "      <td>0</td>\n",
       "    </tr>\n",
       "    <tr>\n",
       "      <th>11149</th>\n",
       "      <td>JG04</td>\n",
       "      <td>1.385641</td>\n",
       "      <td>PG03</td>\n",
       "      <td>1.385641</td>\n",
       "      <td>1.802776</td>\n",
       "      <td>RM_type_B</td>\n",
       "      <td>1</td>\n",
       "      <td>1988</td>\n",
       "      <td>Y</td>\n",
       "      <td>2</td>\n",
       "      <td>...</td>\n",
       "      <td>2015</td>\n",
       "      <td>3</td>\n",
       "      <td>1</td>\n",
       "      <td>2</td>\n",
       "      <td>0</td>\n",
       "      <td>6</td>\n",
       "      <td>0</td>\n",
       "      <td>79.91</td>\n",
       "      <td>0.0</td>\n",
       "      <td>0</td>\n",
       "    </tr>\n",
       "    <tr>\n",
       "      <th>11150</th>\n",
       "      <td>JG04</td>\n",
       "      <td>1.256981</td>\n",
       "      <td>PG03</td>\n",
       "      <td>1.256981</td>\n",
       "      <td>1.385641</td>\n",
       "      <td>RM_type_B</td>\n",
       "      <td>2</td>\n",
       "      <td>1991</td>\n",
       "      <td>Y</td>\n",
       "      <td>0</td>\n",
       "      <td>...</td>\n",
       "      <td>2017</td>\n",
       "      <td>2</td>\n",
       "      <td>1</td>\n",
       "      <td>2</td>\n",
       "      <td>0</td>\n",
       "      <td>4</td>\n",
       "      <td>0</td>\n",
       "      <td>78.38</td>\n",
       "      <td>0.0</td>\n",
       "      <td>0</td>\n",
       "    </tr>\n",
       "    <tr>\n",
       "      <th>11151</th>\n",
       "      <td>JG04</td>\n",
       "      <td>1.118034</td>\n",
       "      <td>PG03</td>\n",
       "      <td>1.118034</td>\n",
       "      <td>0.000000</td>\n",
       "      <td>RM_type_A</td>\n",
       "      <td>1</td>\n",
       "      <td>1987</td>\n",
       "      <td>Y</td>\n",
       "      <td>1</td>\n",
       "      <td>...</td>\n",
       "      <td>2012</td>\n",
       "      <td>5</td>\n",
       "      <td>5</td>\n",
       "      <td>4</td>\n",
       "      <td>0</td>\n",
       "      <td>4</td>\n",
       "      <td>1</td>\n",
       "      <td>85.94</td>\n",
       "      <td>1.0</td>\n",
       "      <td>0</td>\n",
       "    </tr>\n",
       "    <tr>\n",
       "      <th>11152</th>\n",
       "      <td>JG04</td>\n",
       "      <td>2.828427</td>\n",
       "      <td>PG04</td>\n",
       "      <td>2.121320</td>\n",
       "      <td>1.473092</td>\n",
       "      <td>RM_type_B</td>\n",
       "      <td>2</td>\n",
       "      <td>1980</td>\n",
       "      <td>Y</td>\n",
       "      <td>2</td>\n",
       "      <td>...</td>\n",
       "      <td>2009</td>\n",
       "      <td>14</td>\n",
       "      <td>5</td>\n",
       "      <td>7</td>\n",
       "      <td>0</td>\n",
       "      <td>2</td>\n",
       "      <td>0</td>\n",
       "      <td>79.99</td>\n",
       "      <td>1.0</td>\n",
       "      <td>0</td>\n",
       "    </tr>\n",
       "  </tbody>\n",
       "</table>\n",
       "<p>11153 rows × 22 columns</p>\n",
       "</div>"
      ],
      "text/plain": [
       "      job_level  job_duration_in_current_job_level person_level  \\\n",
       "0          JG04                           1.352775         PG03   \n",
       "1          JG04                           1.292285         PG03   \n",
       "2          JG05                           2.565151         PG06   \n",
       "3          JG05                           2.828427         PG06   \n",
       "4          JG05                           2.828427         PG06   \n",
       "...         ...                                ...          ...   \n",
       "11148      JG04                           1.256981         PG03   \n",
       "11149      JG04                           1.385641         PG03   \n",
       "11150      JG04                           1.256981         PG03   \n",
       "11151      JG04                           1.118034         PG03   \n",
       "11152      JG04                           2.828427         PG04   \n",
       "\n",
       "       job_duration_in_current_person_level  job_duration_in_current_branch  \\\n",
       "0                                  1.352775                        1.732051   \n",
       "1                                  1.292285                        1.039230   \n",
       "2                                  2.308679                        1.780449   \n",
       "3                                  1.000000                        1.385641   \n",
       "4                                  2.828427                        0.707107   \n",
       "...                                     ...                             ...   \n",
       "11148                              1.256981                        1.224745   \n",
       "11149                              1.385641                        1.802776   \n",
       "11150                              1.256981                        1.385641   \n",
       "11151                              1.118034                        0.000000   \n",
       "11152                              2.121320                        1.473092   \n",
       "\n",
       "      Employee_type  gender   age marital_status_maried(Y/N)  \\\n",
       "0         RM_type_A       2  1985                          Y   \n",
       "1         RM_type_A       2  1989                          Y   \n",
       "2         RM_type_C       1  1970                          Y   \n",
       "3         RM_type_A       2  1967                          Y   \n",
       "4         RM_type_A       2  1965                          Y   \n",
       "...             ...     ...   ...                        ...   \n",
       "11148     RM_type_A       2  1986                          Y   \n",
       "11149     RM_type_B       1  1988                          Y   \n",
       "11150     RM_type_B       2  1991                          Y   \n",
       "11151     RM_type_A       1  1987                          Y   \n",
       "11152     RM_type_B       2  1980                          Y   \n",
       "\n",
       "       number_of_dependences  ... year_graduated  job_duration_from_training  \\\n",
       "0                          1  ...           2011                           4   \n",
       "1                          0  ...           2007                           4   \n",
       "2                          1  ...           1989                          28   \n",
       "3                          2  ...           1987                          29   \n",
       "4                          3  ...           1985                          30   \n",
       "...                      ...  ...            ...                         ...   \n",
       "11148                      1  ...           2016                           4   \n",
       "11149                      2  ...           2015                           3   \n",
       "11150                      0  ...           2017                           2   \n",
       "11151                      1  ...           2012                           5   \n",
       "11152                      2  ...           2009                          14   \n",
       "\n",
       "       branch_rotation  job_rotation  assign_of_otherposition  annual leave  \\\n",
       "0                    2             3                        2             3   \n",
       "1                    4             3                        0             0   \n",
       "2                   10             9                        6             2   \n",
       "3                   11             6                        0             4   \n",
       "4                    9             8                        2             3   \n",
       "...                ...           ...                      ...           ...   \n",
       "11148                3             3                        0             4   \n",
       "11149                1             2                        0             6   \n",
       "11150                1             2                        0             4   \n",
       "11151                5             4                        0             4   \n",
       "11152                5             7                        0             2   \n",
       "\n",
       "       sick_leaves  Last_achievement_%  Achievement_above_100%_during3quartal  \\\n",
       "0                0               46.37                                    0.0   \n",
       "1                1               47.68                                    0.0   \n",
       "2                1               40.73                                    0.0   \n",
       "3               10               47.42                                    0.0   \n",
       "4                0               47.18                                    0.0   \n",
       "...            ...                 ...                                    ...   \n",
       "11148            1               50.87                                    0.0   \n",
       "11149            0               79.91                                    0.0   \n",
       "11150            0               78.38                                    0.0   \n",
       "11151            1               85.94                                    1.0   \n",
       "11152            0               79.99                                    1.0   \n",
       "\n",
       "       Best Performance  \n",
       "0                     0  \n",
       "1                     0  \n",
       "2                     0  \n",
       "3                     1  \n",
       "4                     0  \n",
       "...                 ...  \n",
       "11148                 0  \n",
       "11149                 0  \n",
       "11150                 0  \n",
       "11151                 0  \n",
       "11152                 0  \n",
       "\n",
       "[11153 rows x 22 columns]"
      ]
     },
     "execution_count": 2,
     "metadata": {},
     "output_type": "execute_result"
    }
   ],
   "source": [
    "df = pd.read_csv('train.csv')\n",
    "df"
   ]
  },
  {
   "cell_type": "code",
   "execution_count": 3,
   "metadata": {
    "ExecuteTime": {
     "end_time": "2021-02-26T15:52:50.690389Z",
     "start_time": "2021-02-26T15:52:50.674300Z"
    },
    "scrolled": true
   },
   "outputs": [
    {
     "name": "stdout",
     "output_type": "stream",
     "text": [
      "<class 'pandas.core.frame.DataFrame'>\n",
      "RangeIndex: 11153 entries, 0 to 11152\n",
      "Data columns (total 22 columns):\n",
      " #   Column                                 Non-Null Count  Dtype  \n",
      "---  ------                                 --------------  -----  \n",
      " 0   job_level                              11153 non-null  object \n",
      " 1   job_duration_in_current_job_level      11153 non-null  float64\n",
      " 2   person_level                           11153 non-null  object \n",
      " 3   job_duration_in_current_person_level   11153 non-null  float64\n",
      " 4   job_duration_in_current_branch         11153 non-null  float64\n",
      " 5   Employee_type                          11153 non-null  object \n",
      " 6   gender                                 11153 non-null  int64  \n",
      " 7   age                                    11153 non-null  int64  \n",
      " 8   marital_status_maried(Y/N)             11153 non-null  object \n",
      " 9   number_of_dependences                  11153 non-null  int64  \n",
      " 10  Education_level                        11153 non-null  object \n",
      " 11  GPA                                    11153 non-null  float64\n",
      " 12  year_graduated                         11153 non-null  int64  \n",
      " 13  job_duration_from_training             11153 non-null  int64  \n",
      " 14  branch_rotation                        11153 non-null  int64  \n",
      " 15  job_rotation                           11153 non-null  int64  \n",
      " 16  assign_of_otherposition                11153 non-null  int64  \n",
      " 17  annual leave                           11153 non-null  int64  \n",
      " 18  sick_leaves                            11153 non-null  int64  \n",
      " 19  Last_achievement_%                     11152 non-null  float64\n",
      " 20  Achievement_above_100%_during3quartal  11152 non-null  float64\n",
      " 21  Best Performance                       11153 non-null  int64  \n",
      "dtypes: float64(6), int64(11), object(5)\n",
      "memory usage: 1.9+ MB\n"
     ]
    }
   ],
   "source": [
    "df.info()"
   ]
  },
  {
   "cell_type": "code",
   "execution_count": 4,
   "metadata": {
    "ExecuteTime": {
     "end_time": "2021-02-26T15:52:52.603507Z",
     "start_time": "2021-02-26T15:52:52.587103Z"
    }
   },
   "outputs": [],
   "source": [
    "labelencoder = LabelEncoder()\n",
    "\n",
    "label_edit = ['job_level', 'person_level', 'Employee_type', 'marital_status_maried(Y/N)', 'Education_level']\n",
    "\n",
    "for i in label_edit:\n",
    "    df[i] = labelencoder.fit_transform(df[i])"
   ]
  },
  {
   "cell_type": "code",
   "execution_count": 5,
   "metadata": {
    "ExecuteTime": {
     "end_time": "2021-02-26T15:52:52.790979Z",
     "start_time": "2021-02-26T15:52:52.778714Z"
    }
   },
   "outputs": [
    {
     "name": "stdout",
     "output_type": "stream",
     "text": [
      "[1 2 0]\n",
      "[2 5 4 3 6 1 0 7]\n",
      "[0 2 1]\n",
      "[1 0]\n",
      "[0 1 2 3 4 5]\n"
     ]
    }
   ],
   "source": [
    "print(df['job_level'].unique())\n",
    "print(df['person_level'].unique())\n",
    "print(df['Employee_type'].unique())\n",
    "print(df['marital_status_maried(Y/N)'].unique())\n",
    "print(df['Education_level'].unique())"
   ]
  },
  {
   "cell_type": "markdown",
   "metadata": {},
   "source": [
    "### Handling GPA Column "
   ]
  },
  {
   "cell_type": "code",
   "execution_count": 7,
   "metadata": {
    "ExecuteTime": {
     "end_time": "2021-02-10T14:27:14.768136Z",
     "start_time": "2021-02-10T14:27:14.760093Z"
    }
   },
   "outputs": [],
   "source": [
    "df.loc[df['GPA'] > 4.00, 'GPA'] = np.nan\n",
    "\n",
    "df['GPA'].replace(to_replace=0.00, method='ffill', inplace=True)\n",
    "\n",
    "df['GPA'] = df['GPA'].fillna(df['GPA'].mean())"
   ]
  },
  {
   "cell_type": "markdown",
   "metadata": {},
   "source": [
    "### Plotting GPA Column "
   ]
  },
  {
   "cell_type": "code",
   "execution_count": 10,
   "metadata": {
    "ExecuteTime": {
     "end_time": "2021-02-10T14:27:18.178023Z",
     "start_time": "2021-02-10T14:27:17.519099Z"
    }
   },
   "outputs": [
    {
     "name": "stderr",
     "output_type": "stream",
     "text": [
      "C:\\Users\\shand\\anaconda3\\envs\\sandbox\\lib\\site-packages\\seaborn\\distributions.py:2551: FutureWarning: `distplot` is a deprecated function and will be removed in a future version. Please adapt your code to use either `displot` (a figure-level function with similar flexibility) or `histplot` (an axes-level function for histograms).\n",
      "  warnings.warn(msg, FutureWarning)\n"
     ]
    },
    {
     "name": "stdout",
     "output_type": "stream",
     "text": [
      "Median: 3.14\n",
      "Mean: 3.158399454049136\n",
      "Std Dev: 0.24150948433291275\n"
     ]
    },
    {
     "data": {
      "image/png": "[encoded data removed]",
      "text/plain": [
       "<Figure size 432x288 with 1 Axes>"
      ]
     },
     "metadata": {
      "needs_background": "light"
     },
     "output_type": "display_data"
    }
   ],
   "source": [
    "sns.distplot(df['GPA'])\n",
    "line1 = plt.axvline(df['GPA'].mean(), color=\"r\", linestyle=\"--\", label = \"mean\")\n",
    "line2 = plt.axvline(np.median(df['GPA']), color=\"b\", linestyle=\"--\", label = \"median\")\n",
    "first_legend = plt.legend(handles=[line1, line2], loc=1)\n",
    "print(\"Median:\", np.median(df['GPA']))\n",
    "print(\"Mean:\", df['GPA'].mean())\n",
    "print(\"Std Dev:\", np.std(df['GPA']))\n",
    "plt.show()"
   ]
  },
  {
   "cell_type": "code",
   "execution_count": 13,
   "metadata": {
    "ExecuteTime": {
     "end_time": "2021-02-09T14:29:41.773131Z",
     "start_time": "2021-02-09T14:29:41.768134Z"
    }
   },
   "outputs": [
    {
     "data": {
      "text/plain": [
       "0        2.860000\n",
       "1        3.158399\n",
       "2        3.158399\n",
       "3        3.158399\n",
       "4        3.158399\n",
       "           ...   \n",
       "11148    3.330000\n",
       "11149    3.000000\n",
       "11150    3.480000\n",
       "11151    3.530000\n",
       "11152    3.140000\n",
       "Name: GPA, Length: 11153, dtype: float64"
      ]
     },
     "execution_count": 13,
     "metadata": {},
     "output_type": "execute_result"
    }
   ],
   "source": [
    "df['GPA']"
   ]
  },
  {
   "cell_type": "markdown",
   "metadata": {},
   "source": [
    "### Check GPA Outlier"
   ]
  },
  {
   "cell_type": "code",
   "execution_count": 15,
   "metadata": {
    "ExecuteTime": {
     "end_time": "2021-02-09T14:30:10.609556Z",
     "start_time": "2021-02-09T14:30:10.479555Z"
    }
   },
   "outputs": [
    {
     "data": {
      "text/plain": [
       "<AxesSubplot:xlabel='GPA'>"
      ]
     },
     "execution_count": 15,
     "metadata": {},
     "output_type": "execute_result"
    },
    {
     "data": {
      "image/png": "[encoded data removed]",
      "text/plain": [
       "<Figure size 432x288 with 1 Axes>"
      ]
     },
     "metadata": {
      "needs_background": "light"
     },
     "output_type": "display_data"
    }
   ],
   "source": [
    "sns.boxplot(x=df['GPA'])"
   ]
  },
  {
   "cell_type": "code",
   "execution_count": 11,
   "metadata": {
    "ExecuteTime": {
     "end_time": "2021-02-10T14:27:33.423861Z",
     "start_time": "2021-02-10T14:27:33.415840Z"
    }
   },
   "outputs": [
    {
     "data": {
      "text/plain": [
       "job_level                                0\n",
       "job_duration_in_current_job_level        0\n",
       "person_level                             0\n",
       "job_duration_in_current_person_level     0\n",
       "job_duration_in_current_branch           0\n",
       "Employee_type                            0\n",
       "gender                                   0\n",
       "age                                      0\n",
       "marital_status_maried(Y/N)               0\n",
       "number_of_dependences                    0\n",
       "Education_level                          0\n",
       "GPA                                      0\n",
       "year_graduated                           0\n",
       "job_duration_from_training               0\n",
       "branch_rotation                          0\n",
       "job_rotation                             0\n",
       "assign_of_otherposition                  0\n",
       "annual leave                             0\n",
       "sick_leaves                              0\n",
       "Last_achievement_%                       1\n",
       "Achievement_above_100%_during3quartal    1\n",
       "Best Performance                         0\n",
       "dtype: int64"
      ]
     },
     "execution_count": 11,
     "metadata": {},
     "output_type": "execute_result"
    }
   ],
   "source": [
    "df.isnull().sum()"
   ]
  },
  {
   "cell_type": "code",
   "execution_count": 12,
   "metadata": {
    "ExecuteTime": {
     "end_time": "2021-02-10T14:27:35.997299Z",
     "start_time": "2021-02-10T14:27:35.992332Z"
    }
   },
   "outputs": [],
   "source": [
    "fill_columns = ['Last_achievement_%', 'Achievement_above_100%_during3quartal']\n",
    "\n",
    "for i in fill_columns:\n",
    "    df[i] = df[i].fillna(method='ffill')"
   ]
  },
  {
   "cell_type": "code",
   "execution_count": 13,
   "metadata": {
    "ExecuteTime": {
     "end_time": "2021-02-10T14:27:36.414946Z",
     "start_time": "2021-02-10T14:27:36.405989Z"
    }
   },
   "outputs": [
    {
     "data": {
      "text/plain": [
       "job_level                                0\n",
       "job_duration_in_current_job_level        0\n",
       "person_level                             0\n",
       "job_duration_in_current_person_level     0\n",
       "job_duration_in_current_branch           0\n",
       "Employee_type                            0\n",
       "gender                                   0\n",
       "age                                      0\n",
       "marital_status_maried(Y/N)               0\n",
       "number_of_dependences                    0\n",
       "Education_level                          0\n",
       "GPA                                      0\n",
       "year_graduated                           0\n",
       "job_duration_from_training               0\n",
       "branch_rotation                          0\n",
       "job_rotation                             0\n",
       "assign_of_otherposition                  0\n",
       "annual leave                             0\n",
       "sick_leaves                              0\n",
       "Last_achievement_%                       0\n",
       "Achievement_above_100%_during3quartal    0\n",
       "Best Performance                         0\n",
       "dtype: int64"
      ]
     },
     "execution_count": 13,
     "metadata": {},
     "output_type": "execute_result"
    }
   ],
   "source": [
    "df.isnull().sum()"
   ]
  },
  {
   "cell_type": "code",
   "execution_count": 14,
   "metadata": {
    "ExecuteTime": {
     "end_time": "2021-02-10T14:27:39.116832Z",
     "start_time": "2021-02-10T14:27:39.014831Z"
    }
   },
   "outputs": [
    {
     "data": {
      "text/plain": [
       "<AxesSubplot:>"
      ]
     },
     "execution_count": 14,
     "metadata": {},
     "output_type": "execute_result"
    },
    {
     "data": {
      "image/png": "[encoded data removed]",
      "text/plain": [
       "<Figure size 432x288 with 1 Axes>"
      ]
     },
     "metadata": {
      "needs_background": "light"
     },
     "output_type": "display_data"
    }
   ],
   "source": [
    "df['Best Performance'].value_counts().plot(kind='barh')"
   ]
  },
  {
   "cell_type": "code",
   "execution_count": 15,
   "metadata": {
    "ExecuteTime": {
     "end_time": "2021-02-10T14:27:44.949043Z",
     "start_time": "2021-02-10T14:27:44.938048Z"
    }
   },
   "outputs": [
    {
     "data": {
      "text/plain": [
       "job_level                                0\n",
       "job_duration_in_current_job_level        0\n",
       "person_level                             0\n",
       "job_duration_in_current_person_level     0\n",
       "job_duration_in_current_branch           0\n",
       "Employee_type                            0\n",
       "gender                                   0\n",
       "age                                      0\n",
       "marital_status_maried(Y/N)               0\n",
       "number_of_dependences                    0\n",
       "Education_level                          0\n",
       "GPA                                      0\n",
       "year_graduated                           0\n",
       "job_duration_from_training               0\n",
       "branch_rotation                          0\n",
       "job_rotation                             0\n",
       "assign_of_otherposition                  0\n",
       "annual leave                             0\n",
       "sick_leaves                              0\n",
       "Last_achievement_%                       0\n",
       "Achievement_above_100%_during3quartal    0\n",
       "Best Performance                         0\n",
       "dtype: int64"
      ]
     },
     "execution_count": 15,
     "metadata": {},
     "output_type": "execute_result"
    }
   ],
   "source": [
    "df.isnull().sum()"
   ]
  },
  {
   "cell_type": "code",
   "execution_count": 16,
   "metadata": {
    "ExecuteTime": {
     "end_time": "2021-02-10T14:27:53.364431Z",
     "start_time": "2021-02-10T14:27:53.360427Z"
    }
   },
   "outputs": [],
   "source": [
    "year = 2021\n",
    "df['age'] = year - df['age']"
   ]
  },
  {
   "cell_type": "code",
   "execution_count": 17,
   "metadata": {
    "ExecuteTime": {
     "end_time": "2021-02-10T14:27:53.709426Z",
     "start_time": "2021-02-10T14:27:53.672441Z"
    }
   },
   "outputs": [
    {
     "data": {
      "text/html": [
       "<div>\n",
       "<style scoped>\n",
       "    .dataframe tbody tr th:only-of-type {\n",
       "        vertical-align: middle;\n",
       "    }\n",
       "\n",
       "    .dataframe tbody tr th {\n",
       "        vertical-align: top;\n",
       "    }\n",
       "\n",
       "    .dataframe thead th {\n",
       "        text-align: right;\n",
       "    }\n",
       "</style>\n",
       "<table border=\"1\" class=\"dataframe\">\n",
       "  <thead>\n",
       "    <tr style=\"text-align: right;\">\n",
       "      <th></th>\n",
       "      <th>job_level</th>\n",
       "      <th>job_duration_in_current_job_level</th>\n",
       "      <th>person_level</th>\n",
       "      <th>job_duration_in_current_person_level</th>\n",
       "      <th>job_duration_in_current_branch</th>\n",
       "      <th>Employee_type</th>\n",
       "      <th>gender</th>\n",
       "      <th>age</th>\n",
       "      <th>marital_status_maried(Y/N)</th>\n",
       "      <th>number_of_dependences</th>\n",
       "      <th>...</th>\n",
       "      <th>year_graduated</th>\n",
       "      <th>job_duration_from_training</th>\n",
       "      <th>branch_rotation</th>\n",
       "      <th>job_rotation</th>\n",
       "      <th>assign_of_otherposition</th>\n",
       "      <th>annual leave</th>\n",
       "      <th>sick_leaves</th>\n",
       "      <th>Last_achievement_%</th>\n",
       "      <th>Achievement_above_100%_during3quartal</th>\n",
       "      <th>Best Performance</th>\n",
       "    </tr>\n",
       "  </thead>\n",
       "  <tbody>\n",
       "    <tr>\n",
       "      <th>0</th>\n",
       "      <td>1</td>\n",
       "      <td>1.352775</td>\n",
       "      <td>2</td>\n",
       "      <td>1.352775</td>\n",
       "      <td>1.732051</td>\n",
       "      <td>0</td>\n",
       "      <td>2</td>\n",
       "      <td>36</td>\n",
       "      <td>1</td>\n",
       "      <td>1</td>\n",
       "      <td>...</td>\n",
       "      <td>2011</td>\n",
       "      <td>4</td>\n",
       "      <td>2</td>\n",
       "      <td>3</td>\n",
       "      <td>2</td>\n",
       "      <td>3</td>\n",
       "      <td>0</td>\n",
       "      <td>46.37</td>\n",
       "      <td>0.0</td>\n",
       "      <td>0</td>\n",
       "    </tr>\n",
       "    <tr>\n",
       "      <th>1</th>\n",
       "      <td>1</td>\n",
       "      <td>1.292285</td>\n",
       "      <td>2</td>\n",
       "      <td>1.292285</td>\n",
       "      <td>1.039230</td>\n",
       "      <td>0</td>\n",
       "      <td>2</td>\n",
       "      <td>32</td>\n",
       "      <td>1</td>\n",
       "      <td>0</td>\n",
       "      <td>...</td>\n",
       "      <td>2007</td>\n",
       "      <td>4</td>\n",
       "      <td>4</td>\n",
       "      <td>3</td>\n",
       "      <td>0</td>\n",
       "      <td>0</td>\n",
       "      <td>1</td>\n",
       "      <td>47.68</td>\n",
       "      <td>0.0</td>\n",
       "      <td>0</td>\n",
       "    </tr>\n",
       "    <tr>\n",
       "      <th>2</th>\n",
       "      <td>2</td>\n",
       "      <td>2.565151</td>\n",
       "      <td>5</td>\n",
       "      <td>2.308679</td>\n",
       "      <td>1.780449</td>\n",
       "      <td>2</td>\n",
       "      <td>1</td>\n",
       "      <td>51</td>\n",
       "      <td>1</td>\n",
       "      <td>1</td>\n",
       "      <td>...</td>\n",
       "      <td>1989</td>\n",
       "      <td>28</td>\n",
       "      <td>10</td>\n",
       "      <td>9</td>\n",
       "      <td>6</td>\n",
       "      <td>2</td>\n",
       "      <td>1</td>\n",
       "      <td>40.73</td>\n",
       "      <td>0.0</td>\n",
       "      <td>0</td>\n",
       "    </tr>\n",
       "    <tr>\n",
       "      <th>3</th>\n",
       "      <td>2</td>\n",
       "      <td>2.828427</td>\n",
       "      <td>5</td>\n",
       "      <td>1.000000</td>\n",
       "      <td>1.385641</td>\n",
       "      <td>0</td>\n",
       "      <td>2</td>\n",
       "      <td>54</td>\n",
       "      <td>1</td>\n",
       "      <td>2</td>\n",
       "      <td>...</td>\n",
       "      <td>1987</td>\n",
       "      <td>29</td>\n",
       "      <td>11</td>\n",
       "      <td>6</td>\n",
       "      <td>0</td>\n",
       "      <td>4</td>\n",
       "      <td>10</td>\n",
       "      <td>47.42</td>\n",
       "      <td>0.0</td>\n",
       "      <td>1</td>\n",
       "    </tr>\n",
       "    <tr>\n",
       "      <th>4</th>\n",
       "      <td>2</td>\n",
       "      <td>2.828427</td>\n",
       "      <td>5</td>\n",
       "      <td>2.828427</td>\n",
       "      <td>0.707107</td>\n",
       "      <td>0</td>\n",
       "      <td>2</td>\n",
       "      <td>56</td>\n",
       "      <td>1</td>\n",
       "      <td>3</td>\n",
       "      <td>...</td>\n",
       "      <td>1985</td>\n",
       "      <td>30</td>\n",
       "      <td>9</td>\n",
       "      <td>8</td>\n",
       "      <td>2</td>\n",
       "      <td>3</td>\n",
       "      <td>0</td>\n",
       "      <td>47.18</td>\n",
       "      <td>0.0</td>\n",
       "      <td>0</td>\n",
       "    </tr>\n",
       "  </tbody>\n",
       "</table>\n",
       "<p>5 rows × 22 columns</p>\n",
       "</div>"
      ],
      "text/plain": [
       "   job_level  job_duration_in_current_job_level  person_level  \\\n",
       "0          1                           1.352775             2   \n",
       "1          1                           1.292285             2   \n",
       "2          2                           2.565151             5   \n",
       "3          2                           2.828427             5   \n",
       "4          2                           2.828427             5   \n",
       "\n",
       "   job_duration_in_current_person_level  job_duration_in_current_branch  \\\n",
       "0                              1.352775                        1.732051   \n",
       "1                              1.292285                        1.039230   \n",
       "2                              2.308679                        1.780449   \n",
       "3                              1.000000                        1.385641   \n",
       "4                              2.828427                        0.707107   \n",
       "\n",
       "   Employee_type  gender  age  marital_status_maried(Y/N)  \\\n",
       "0              0       2   36                           1   \n",
       "1              0       2   32                           1   \n",
       "2              2       1   51                           1   \n",
       "3              0       2   54                           1   \n",
       "4              0       2   56                           1   \n",
       "\n",
       "   number_of_dependences  ...  year_graduated  job_duration_from_training  \\\n",
       "0                      1  ...            2011                           4   \n",
       "1                      0  ...            2007                           4   \n",
       "2                      1  ...            1989                          28   \n",
       "3                      2  ...            1987                          29   \n",
       "4                      3  ...            1985                          30   \n",
       "\n",
       "   branch_rotation  job_rotation  assign_of_otherposition  annual leave  \\\n",
       "0                2             3                        2             3   \n",
       "1                4             3                        0             0   \n",
       "2               10             9                        6             2   \n",
       "3               11             6                        0             4   \n",
       "4                9             8                        2             3   \n",
       "\n",
       "   sick_leaves  Last_achievement_%  Achievement_above_100%_during3quartal  \\\n",
       "0            0               46.37                                    0.0   \n",
       "1            1               47.68                                    0.0   \n",
       "2            1               40.73                                    0.0   \n",
       "3           10               47.42                                    0.0   \n",
       "4            0               47.18                                    0.0   \n",
       "\n",
       "   Best Performance  \n",
       "0                 0  \n",
       "1                 0  \n",
       "2                 0  \n",
       "3                 1  \n",
       "4                 0  \n",
       "\n",
       "[5 rows x 22 columns]"
      ]
     },
     "execution_count": 17,
     "metadata": {},
     "output_type": "execute_result"
    }
   ],
   "source": [
    "df.head()"
   ]
  },
  {
   "cell_type": "markdown",
   "metadata": {},
   "source": [
    "### Modeling "
   ]
  },
  {
   "cell_type": "code",
   "execution_count": 18,
   "metadata": {
    "ExecuteTime": {
     "end_time": "2021-02-10T14:28:35.537805Z",
     "start_time": "2021-02-10T14:28:35.530805Z"
    }
   },
   "outputs": [],
   "source": [
    "X = df.drop('Best Performance', axis=1)\n",
    "y = df['Best Performance']"
   ]
  },
  {
   "cell_type": "code",
   "execution_count": 19,
   "metadata": {
    "ExecuteTime": {
     "end_time": "2021-02-10T14:28:36.381059Z",
     "start_time": "2021-02-10T14:28:36.377065Z"
    }
   },
   "outputs": [
    {
     "name": "stdout",
     "output_type": "stream",
     "text": [
      "(11153, 21)\n",
      "(11153,)\n"
     ]
    }
   ],
   "source": [
    "print(X.shape)\n",
    "print(y.shape)"
   ]
  },
  {
   "cell_type": "markdown",
   "metadata": {
    "ExecuteTime": {
     "end_time": "2021-02-10T14:28:53.844016Z",
     "start_time": "2021-02-10T14:28:53.840015Z"
    }
   },
   "source": [
    "### Undersampling Data with Condensed Nearest Neighbour"
   ]
  },
  {
   "cell_type": "code",
   "execution_count": 21,
   "metadata": {
    "ExecuteTime": {
     "end_time": "2021-02-10T14:29:07.406037Z",
     "start_time": "2021-02-10T14:29:07.402033Z"
    }
   },
   "outputs": [],
   "source": [
    "undersample = CondensedNearestNeighbour(n_neighbors=1)"
   ]
  },
  {
   "cell_type": "code",
   "execution_count": 22,
   "metadata": {
    "ExecuteTime": {
     "end_time": "2021-02-10T14:50:44.848486Z",
     "start_time": "2021-02-10T14:29:33.382016Z"
    }
   },
   "outputs": [],
   "source": [
    "X, y = undersample.fit_resample(X, y)"
   ]
  },
  {
   "cell_type": "code",
   "execution_count": 24,
   "metadata": {
    "ExecuteTime": {
     "end_time": "2021-02-10T14:51:19.068866Z",
     "start_time": "2021-02-10T14:51:19.063898Z"
    }
   },
   "outputs": [
    {
     "name": "stdout",
     "output_type": "stream",
     "text": [
      "Counter({0: 3253, 1: 1637})\n"
     ]
    }
   ],
   "source": [
    "counter = Counter(y)\n",
    "print(counter)"
   ]
  },
  {
   "cell_type": "markdown",
   "metadata": {},
   "source": [
    "### Modeling with XGBoost "
   ]
  },
  {
   "cell_type": "code",
   "execution_count": 26,
   "metadata": {
    "ExecuteTime": {
     "end_time": "2021-02-10T14:51:27.099531Z",
     "start_time": "2021-02-10T14:51:27.094532Z"
    }
   },
   "outputs": [],
   "source": [
    "xg = xgb.XGBRFClassifier(n_estimators=1000)"
   ]
  },
  {
   "cell_type": "code",
   "execution_count": 27,
   "metadata": {
    "ExecuteTime": {
     "end_time": "2021-02-10T14:51:31.999006Z",
     "start_time": "2021-02-10T14:51:27.863088Z"
    }
   },
   "outputs": [
    {
     "name": "stderr",
     "output_type": "stream",
     "text": [
      "C:\\Users\\shand\\anaconda3\\envs\\sandbox\\lib\\site-packages\\xgboost\\sklearn.py:892: UserWarning: The use of label encoder in XGBClassifier is deprecated and will be removed in a future release. To remove this warning, do the following: 1) Pass option use_label_encoder=False when constructing XGBClassifier object; and 2) Encode your labels (y) as integers starting with 0, i.e. 0, 1, 2, ..., [num_class - 1].\n",
      "  warnings.warn(label_encoder_deprecation_msg, UserWarning)\n"
     ]
    },
    {
     "name": "stdout",
     "output_type": "stream",
     "text": [
      "[21:51:31] WARNING: C:/Users/Administrator/workspace/xgboost-win64_release_1.3.0/src/learner.cc:1061: Starting in XGBoost 1.3.0, the default evaluation metric used with the objective 'binary:logistic' was changed from 'error' to 'logloss'. Explicitly set eval_metric if you'd like to restore the old behavior.\n"
     ]
    },
    {
     "data": {
      "text/plain": [
       "XGBRFClassifier(base_score=0.5, booster='gbtree', colsample_bylevel=1,\n",
       "                colsample_bytree=1, gamma=0, gpu_id=-1, importance_type='gain',\n",
       "                interaction_constraints='', max_delta_step=0, max_depth=6,\n",
       "                min_child_weight=1, missing=nan, monotone_constraints='()',\n",
       "                n_estimators=1000, n_jobs=12, num_parallel_tree=1000,\n",
       "                objective='binary:logistic', random_state=0, reg_alpha=0,\n",
       "                scale_pos_weight=1, tree_method='exact', validate_parameters=1,\n",
       "                verbosity=None)"
      ]
     },
     "execution_count": 27,
     "metadata": {},
     "output_type": "execute_result"
    }
   ],
   "source": [
    "xg.fit(X, y)"
   ]
  },
  {
   "cell_type": "code",
   "execution_count": 28,
   "metadata": {
    "ExecuteTime": {
     "end_time": "2021-02-10T14:51:42.493869Z",
     "start_time": "2021-02-10T14:51:32.000022Z"
    }
   },
   "outputs": [
    {
     "name": "stdout",
     "output_type": "stream",
     "text": [
      "XGB ROC-AUC Mean Score:  0.543747500117681\n"
     ]
    }
   ],
   "source": [
    "score1 = cross_val_score(xg, X, y, cv=5, scoring=\"roc_auc\", n_jobs=-1)\n",
    "print(\"XGB ROC-AUC Mean Score: \", np.mean(score1))"
   ]
  },
  {
   "cell_type": "markdown",
   "metadata": {},
   "source": [
    "### Modeling with Random Forest "
   ]
  },
  {
   "cell_type": "code",
   "execution_count": 30,
   "metadata": {
    "ExecuteTime": {
     "end_time": "2021-02-10T14:52:44.654242Z",
     "start_time": "2021-02-10T14:52:44.651275Z"
    }
   },
   "outputs": [],
   "source": [
    "rf = RandomForestClassifier(n_estimators=1000)"
   ]
  },
  {
   "cell_type": "code",
   "execution_count": 31,
   "metadata": {
    "ExecuteTime": {
     "end_time": "2021-02-10T14:52:55.118165Z",
     "start_time": "2021-02-10T14:52:48.271044Z"
    }
   },
   "outputs": [
    {
     "data": {
      "text/plain": [
       "RandomForestClassifier(n_estimators=1000)"
      ]
     },
     "execution_count": 31,
     "metadata": {},
     "output_type": "execute_result"
    }
   ],
   "source": [
    "rf.fit(X, y)"
   ]
  },
  {
   "cell_type": "code",
   "execution_count": 33,
   "metadata": {
    "ExecuteTime": {
     "end_time": "2021-02-10T14:53:27.882841Z",
     "start_time": "2021-02-10T14:53:20.704841Z"
    }
   },
   "outputs": [
    {
     "name": "stdout",
     "output_type": "stream",
     "text": [
      "RF ROC-AUC Mean Score:  0.5132328556781562\n"
     ]
    }
   ],
   "source": [
    "score3 = cross_val_score(rf, X, y, cv=5, scoring=\"roc_auc\", n_jobs=-1)\n",
    "print(\"RF ROC-AUC Mean Score: \", np.mean(score3))"
   ]
  },
  {
   "cell_type": "markdown",
   "metadata": {},
   "source": [
    "### Predict with Test Data"
   ]
  },
  {
   "cell_type": "code",
   "execution_count": 34,
   "metadata": {
    "ExecuteTime": {
     "end_time": "2021-02-10T14:59:21.018533Z",
     "start_time": "2021-02-10T14:59:20.987498Z"
    }
   },
   "outputs": [],
   "source": [
    "df_test = pd.read_csv('test.csv')"
   ]
  },
  {
   "cell_type": "code",
   "execution_count": 35,
   "metadata": {
    "ExecuteTime": {
     "end_time": "2021-02-10T14:59:24.732977Z",
     "start_time": "2021-02-10T14:59:24.725948Z"
    }
   },
   "outputs": [],
   "source": [
    "class MultiColumnLabelEncoder:\n",
    "    def __init__(self,columns = None):\n",
    "        self.columns = columns # array of column names to encode\n",
    "\n",
    "    def fit(self,X,y=None):\n",
    "        return self # not relevant here\n",
    "\n",
    "    def transform(self,X):\n",
    "        '''\n",
    "        Transforms columns of X specified in self.columns using\n",
    "        LabelEncoder(). If no columns specified, transforms all\n",
    "        columns in X.\n",
    "        '''\n",
    "        output = X.copy()\n",
    "        if self.columns is not None:\n",
    "            for col in self.columns:\n",
    "                output[col] = LabelEncoder().fit_transform(output[col])\n",
    "        else:\n",
    "            for colname,col in output.iteritems():\n",
    "                output[colname] = LabelEncoder().fit_transform(col)\n",
    "        return output\n",
    "\n",
    "    def fit_transform(self,X,y=None):\n",
    "        return self.fit(X,y).transform(X)"
   ]
  },
  {
   "cell_type": "code",
   "execution_count": 36,
   "metadata": {
    "ExecuteTime": {
     "end_time": "2021-02-10T14:59:25.052450Z",
     "start_time": "2021-02-10T14:59:25.046448Z"
    }
   },
   "outputs": [],
   "source": [
    "common = list(set(X.columns).intersection(set(df_test.columns)))\n",
    "X = X[common]\n",
    "df_test = df_test[common]"
   ]
  },
  {
   "cell_type": "code",
   "execution_count": 37,
   "metadata": {
    "ExecuteTime": {
     "end_time": "2021-02-10T14:59:29.255253Z",
     "start_time": "2021-02-10T14:59:29.242259Z"
    }
   },
   "outputs": [],
   "source": [
    "df_test_baru = MultiColumnLabelEncoder(columns=df_test.select_dtypes(exclude=[np.number])).fit_transform(df_test)"
   ]
  },
  {
   "cell_type": "code",
   "execution_count": 38,
   "metadata": {
    "ExecuteTime": {
     "end_time": "2021-02-10T14:59:38.203443Z",
     "start_time": "2021-02-10T14:59:38.161477Z"
    }
   },
   "outputs": [],
   "source": [
    "y_pred_xg = xg.predict_proba(df_test_baru)[:,1]"
   ]
  },
  {
   "cell_type": "code",
   "execution_count": 39,
   "metadata": {
    "ExecuteTime": {
     "end_time": "2021-02-10T14:59:41.598706Z",
     "start_time": "2021-02-10T14:59:41.594704Z"
    }
   },
   "outputs": [],
   "source": [
    "xg_submit = pd.DataFrame(y_pred_xg, columns=['Best Performance'])\n",
    "xg_submit.index.name='index'"
   ]
  },
  {
   "cell_type": "code",
   "execution_count": 40,
   "metadata": {
    "ExecuteTime": {
     "end_time": "2021-02-10T14:59:44.851986Z",
     "start_time": "2021-02-10T14:59:44.825961Z"
    }
   },
   "outputs": [],
   "source": [
    "xg_submit.to_csv('code_sumbission5.csv')"
   ]
  }
 ],
 "metadata": {
  "kernelspec": {
   "display_name": "Python (sandbox)",
   "language": "python",
   "name": "sandbox"
  },
  "language_info": {
   "codemirror_mode": {
    "name": "ipython",
    "version": 3
   },
   "file_extension": ".py",
   "mimetype": "text/x-python",
   "name": "python",
   "nbconvert_exporter": "python",
   "pygments_lexer": "ipython3",
   "version": "3.7.8"
  }
 },
 "nbformat": 4,
 "nbformat_minor": 4
}
