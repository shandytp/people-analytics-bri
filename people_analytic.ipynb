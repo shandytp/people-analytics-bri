{
 "cells": [
  {
   "cell_type": "code",
   "execution_count": 1,
   "metadata": {
    "colab": {
     "base_uri": "https://localhost:8080/",
     "height": 89,
     "resources": {
      "http://localhost:8080/nbextensions/google.colab/files.js": {
       "data": "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",
       "headers": [
        [
         "content-type",
         "application/javascript"
        ]
       ],
       "ok": true,
       "status": 200,
       "status_text": ""
      }
     }
    },
    "id": "hMkPzsawcItg",
    "outputId": "03bdfea3-fc5f-4985-c787-5987a601e81c"
   },
   "outputs": [],
   "source": [
    "# from google.colab import files\n",
    "# files.upload()"
   ]
  },
  {
   "cell_type": "code",
   "execution_count": 2,
   "metadata": {
    "colab": {
     "base_uri": "https://localhost:8080/"
    },
    "id": "AuwdXIHBgkuK",
    "outputId": "f12125f2-58bc-4c78-8a52-7f88c0117705"
   },
   "outputs": [],
   "source": [
    "# # # !pip install  kaggle\n",
    "# !mkdir -p ~/.kaggle# \n",
    "# !cp kaggle.json ~/.kaggle# /\n",
    "# !ls ~/.kagg# le\n",
    "# !chmod 600 /root/.kaggle/kaggle.json"
   ]
  },
  {
   "cell_type": "code",
   "execution_count": 2,
   "metadata": {
    "colab": {
     "base_uri": "https://localhost:8080/"
    },
    "id": "8RfZ5TOdivYc",
    "outputId": "4b34c65a-2f2f-48f3-d52d-2ba2f353a7ff"
   },
   "outputs": [
    {
     "name": "stdout",
     "output_type": "stream",
     "text": [
      "Downloading bri-data-hackathon-pa.zip to D:\\Sinau\\BRI people analytic\n",
      "\n"
     ]
    },
    {
     "name": "stderr",
     "output_type": "stream",
     "text": [
      "\n",
      "  0%|          | 0.00/384k [00:00<?, ?B/s]\n",
      "100%|##########| 384k/384k [00:00<00:00, 3.00MB/s]\n",
      "100%|##########| 384k/384k [00:00<00:00, 2.99MB/s]\n"
     ]
    }
   ],
   "source": [
    "!kaggle competitions download -c bri-data-hackathon-pa"
   ]
  },
  {
   "cell_type": "code",
   "execution_count": 1,
   "metadata": {
    "id": "W77TqfUG-hyg"
   },
   "outputs": [],
   "source": [
    "import pandas as pd\n",
    "import numpy as np\n",
    "import matplotlib.pyplot as plt"
   ]
  },
  {
   "cell_type": "code",
   "execution_count": 2,
   "metadata": {
    "id": "v7qoyaPJ_CMD"
   },
   "outputs": [],
   "source": [
    "df_train = pd.read_csv('bri-data-hackathon-pa/train.csv')\n",
    "df_test = pd.read_csv('bri-data-hackathon-pa/test.csv')"
   ]
  },
  {
   "cell_type": "code",
   "execution_count": 3,
   "metadata": {
    "colab": {
     "base_uri": "https://localhost:8080/"
    },
    "id": "rMJNO465_IE1",
    "outputId": "1e203e3b-0929-4849-911b-f96955ddd1a9"
   },
   "outputs": [
    {
     "name": "stdout",
     "output_type": "stream",
     "text": [
      "<class 'pandas.core.frame.DataFrame'>\n",
      "RangeIndex: 11153 entries, 0 to 11152\n",
      "Data columns (total 22 columns):\n",
      " #   Column                                 Non-Null Count  Dtype  \n",
      "---  ------                                 --------------  -----  \n",
      " 0   job_level                              11153 non-null  object \n",
      " 1   job_duration_in_current_job_level      11153 non-null  float64\n",
      " 2   person_level                           11153 non-null  object \n",
      " 3   job_duration_in_current_person_level   11153 non-null  float64\n",
      " 4   job_duration_in_current_branch         11153 non-null  float64\n",
      " 5   Employee_type                          11153 non-null  object \n",
      " 6   gender                                 11153 non-null  int64  \n",
      " 7   age                                    11153 non-null  int64  \n",
      " 8   marital_status_maried(Y/N)             11153 non-null  object \n",
      " 9   number_of_dependences                  11153 non-null  int64  \n",
      " 10  Education_level                        11153 non-null  object \n",
      " 11  GPA                                    11153 non-null  float64\n",
      " 12  year_graduated                         11153 non-null  int64  \n",
      " 13  job_duration_from_training             11153 non-null  int64  \n",
      " 14  branch_rotation                        11153 non-null  int64  \n",
      " 15  job_rotation                           11153 non-null  int64  \n",
      " 16  assign_of_otherposition                11153 non-null  int64  \n",
      " 17  annual leave                           11153 non-null  int64  \n",
      " 18  sick_leaves                            11153 non-null  int64  \n",
      " 19  Last_achievement_%                     11152 non-null  float64\n",
      " 20  Achievement_above_100%_during3quartal  11152 non-null  float64\n",
      " 21  Best Performance                       11153 non-null  int64  \n",
      "dtypes: float64(6), int64(11), object(5)\n",
      "memory usage: 1.9+ MB\n"
     ]
    }
   ],
   "source": [
    "df_train.info()"
   ]
  },
  {
   "cell_type": "code",
   "execution_count": 4,
   "metadata": {
    "colab": {
     "base_uri": "https://localhost:8080/",
     "height": 241
    },
    "id": "PG3grGAs_J_N",
    "outputId": "5729e434-d855-4d2b-c4b3-56d32df3b0b1"
   },
   "outputs": [
    {
     "data": {
      "text/html": [
       "<div>\n",
       "<style scoped>\n",
       "    .dataframe tbody tr th:only-of-type {\n",
       "        vertical-align: middle;\n",
       "    }\n",
       "\n",
       "    .dataframe tbody tr th {\n",
       "        vertical-align: top;\n",
       "    }\n",
       "\n",
       "    .dataframe thead th {\n",
       "        text-align: right;\n",
       "    }\n",
       "</style>\n",
       "<table border=\"1\" class=\"dataframe\">\n",
       "  <thead>\n",
       "    <tr style=\"text-align: right;\">\n",
       "      <th></th>\n",
       "      <th>job_level</th>\n",
       "      <th>job_duration_in_current_job_level</th>\n",
       "      <th>person_level</th>\n",
       "      <th>job_duration_in_current_person_level</th>\n",
       "      <th>job_duration_in_current_branch</th>\n",
       "      <th>Employee_type</th>\n",
       "      <th>gender</th>\n",
       "      <th>age</th>\n",
       "      <th>marital_status_maried(Y/N)</th>\n",
       "      <th>number_of_dependences</th>\n",
       "      <th>...</th>\n",
       "      <th>year_graduated</th>\n",
       "      <th>job_duration_from_training</th>\n",
       "      <th>branch_rotation</th>\n",
       "      <th>job_rotation</th>\n",
       "      <th>assign_of_otherposition</th>\n",
       "      <th>annual leave</th>\n",
       "      <th>sick_leaves</th>\n",
       "      <th>Last_achievement_%</th>\n",
       "      <th>Achievement_above_100%_during3quartal</th>\n",
       "      <th>Best Performance</th>\n",
       "    </tr>\n",
       "  </thead>\n",
       "  <tbody>\n",
       "    <tr>\n",
       "      <th>0</th>\n",
       "      <td>JG04</td>\n",
       "      <td>1.352775</td>\n",
       "      <td>PG03</td>\n",
       "      <td>1.352775</td>\n",
       "      <td>1.732051</td>\n",
       "      <td>RM_type_A</td>\n",
       "      <td>2</td>\n",
       "      <td>1985</td>\n",
       "      <td>Y</td>\n",
       "      <td>1</td>\n",
       "      <td>...</td>\n",
       "      <td>2011</td>\n",
       "      <td>4</td>\n",
       "      <td>2</td>\n",
       "      <td>3</td>\n",
       "      <td>2</td>\n",
       "      <td>3</td>\n",
       "      <td>0</td>\n",
       "      <td>46.37</td>\n",
       "      <td>0.0</td>\n",
       "      <td>0</td>\n",
       "    </tr>\n",
       "    <tr>\n",
       "      <th>1</th>\n",
       "      <td>JG04</td>\n",
       "      <td>1.292285</td>\n",
       "      <td>PG03</td>\n",
       "      <td>1.292285</td>\n",
       "      <td>1.039230</td>\n",
       "      <td>RM_type_A</td>\n",
       "      <td>2</td>\n",
       "      <td>1989</td>\n",
       "      <td>Y</td>\n",
       "      <td>0</td>\n",
       "      <td>...</td>\n",
       "      <td>2007</td>\n",
       "      <td>4</td>\n",
       "      <td>4</td>\n",
       "      <td>3</td>\n",
       "      <td>0</td>\n",
       "      <td>0</td>\n",
       "      <td>1</td>\n",
       "      <td>47.68</td>\n",
       "      <td>0.0</td>\n",
       "      <td>0</td>\n",
       "    </tr>\n",
       "    <tr>\n",
       "      <th>2</th>\n",
       "      <td>JG05</td>\n",
       "      <td>2.565151</td>\n",
       "      <td>PG06</td>\n",
       "      <td>2.308679</td>\n",
       "      <td>1.780449</td>\n",
       "      <td>RM_type_C</td>\n",
       "      <td>1</td>\n",
       "      <td>1970</td>\n",
       "      <td>Y</td>\n",
       "      <td>1</td>\n",
       "      <td>...</td>\n",
       "      <td>1989</td>\n",
       "      <td>28</td>\n",
       "      <td>10</td>\n",
       "      <td>9</td>\n",
       "      <td>6</td>\n",
       "      <td>2</td>\n",
       "      <td>1</td>\n",
       "      <td>40.73</td>\n",
       "      <td>0.0</td>\n",
       "      <td>0</td>\n",
       "    </tr>\n",
       "    <tr>\n",
       "      <th>3</th>\n",
       "      <td>JG05</td>\n",
       "      <td>2.828427</td>\n",
       "      <td>PG06</td>\n",
       "      <td>1.000000</td>\n",
       "      <td>1.385641</td>\n",
       "      <td>RM_type_A</td>\n",
       "      <td>2</td>\n",
       "      <td>1967</td>\n",
       "      <td>Y</td>\n",
       "      <td>2</td>\n",
       "      <td>...</td>\n",
       "      <td>1987</td>\n",
       "      <td>29</td>\n",
       "      <td>11</td>\n",
       "      <td>6</td>\n",
       "      <td>0</td>\n",
       "      <td>4</td>\n",
       "      <td>10</td>\n",
       "      <td>47.42</td>\n",
       "      <td>0.0</td>\n",
       "      <td>1</td>\n",
       "    </tr>\n",
       "    <tr>\n",
       "      <th>4</th>\n",
       "      <td>JG05</td>\n",
       "      <td>2.828427</td>\n",
       "      <td>PG06</td>\n",
       "      <td>2.828427</td>\n",
       "      <td>0.707107</td>\n",
       "      <td>RM_type_A</td>\n",
       "      <td>2</td>\n",
       "      <td>1965</td>\n",
       "      <td>Y</td>\n",
       "      <td>3</td>\n",
       "      <td>...</td>\n",
       "      <td>1985</td>\n",
       "      <td>30</td>\n",
       "      <td>9</td>\n",
       "      <td>8</td>\n",
       "      <td>2</td>\n",
       "      <td>3</td>\n",
       "      <td>0</td>\n",
       "      <td>47.18</td>\n",
       "      <td>0.0</td>\n",
       "      <td>0</td>\n",
       "    </tr>\n",
       "  </tbody>\n",
       "</table>\n",
       "<p>5 rows × 22 columns</p>\n",
       "</div>"
      ],
      "text/plain": [
       "  job_level  job_duration_in_current_job_level person_level  \\\n",
       "0      JG04                           1.352775         PG03   \n",
       "1      JG04                           1.292285         PG03   \n",
       "2      JG05                           2.565151         PG06   \n",
       "3      JG05                           2.828427         PG06   \n",
       "4      JG05                           2.828427         PG06   \n",
       "\n",
       "   job_duration_in_current_person_level  job_duration_in_current_branch  \\\n",
       "0                              1.352775                        1.732051   \n",
       "1                              1.292285                        1.039230   \n",
       "2                              2.308679                        1.780449   \n",
       "3                              1.000000                        1.385641   \n",
       "4                              2.828427                        0.707107   \n",
       "\n",
       "  Employee_type  gender   age marital_status_maried(Y/N)  \\\n",
       "0     RM_type_A       2  1985                          Y   \n",
       "1     RM_type_A       2  1989                          Y   \n",
       "2     RM_type_C       1  1970                          Y   \n",
       "3     RM_type_A       2  1967                          Y   \n",
       "4     RM_type_A       2  1965                          Y   \n",
       "\n",
       "   number_of_dependences  ... year_graduated  job_duration_from_training  \\\n",
       "0                      1  ...           2011                           4   \n",
       "1                      0  ...           2007                           4   \n",
       "2                      1  ...           1989                          28   \n",
       "3                      2  ...           1987                          29   \n",
       "4                      3  ...           1985                          30   \n",
       "\n",
       "   branch_rotation  job_rotation  assign_of_otherposition  annual leave  \\\n",
       "0                2             3                        2             3   \n",
       "1                4             3                        0             0   \n",
       "2               10             9                        6             2   \n",
       "3               11             6                        0             4   \n",
       "4                9             8                        2             3   \n",
       "\n",
       "   sick_leaves  Last_achievement_%  Achievement_above_100%_during3quartal  \\\n",
       "0            0               46.37                                    0.0   \n",
       "1            1               47.68                                    0.0   \n",
       "2            1               40.73                                    0.0   \n",
       "3           10               47.42                                    0.0   \n",
       "4            0               47.18                                    0.0   \n",
       "\n",
       "   Best Performance  \n",
       "0                 0  \n",
       "1                 0  \n",
       "2                 0  \n",
       "3                 1  \n",
       "4                 0  \n",
       "\n",
       "[5 rows x 22 columns]"
      ]
     },
     "execution_count": 4,
     "metadata": {},
     "output_type": "execute_result"
    }
   ],
   "source": [
    "df_train.head()"
   ]
  },
  {
   "cell_type": "markdown",
   "metadata": {
    "id": "K3OziiOrglfW"
   },
   "source": [
    "###Fillna"
   ]
  },
  {
   "cell_type": "code",
   "execution_count": 5,
   "metadata": {
    "id": "fKhyJGUYQLRR"
   },
   "outputs": [],
   "source": [
    "df_train.fillna(method='ffill', inplace=True)"
   ]
  },
  {
   "cell_type": "markdown",
   "metadata": {
    "id": "mHKa2M4rgoMM"
   },
   "source": [
    "###Show All columns and unique values"
   ]
  },
  {
   "cell_type": "code",
   "execution_count": 6,
   "metadata": {
    "colab": {
     "base_uri": "https://localhost:8080/"
    },
    "id": "3xscVbv2ZqVR",
    "outputId": "eab6cd98-c7bb-4a17-88c4-e80d9fa0ab4a"
   },
   "outputs": [
    {
     "name": "stdout",
     "output_type": "stream",
     "text": [
      "job_level\n",
      "['JG04' 'JG05' 'JG03']\n",
      "\n",
      "job_duration_in_current_job_level\n",
      "[1.35277493 1.2922848  2.56515107 2.82842712 1.11803399 1.32287566\n",
      " 1.08166538 1.38564065 2.73861279 1.22474487 1.15325626 1.25698051\n",
      " 1.41421356 2.39791576 2.6925824  1.60623784 1.63401346 1.47309199\n",
      " 1.93649167 2.66082694 1.5        1.19163753 2.23606798 2.84253408\n",
      " 1.58113883 2.34520788 2.85832119 2.44948974 1.68226038 0.64807407\n",
      " 0.70710678 2.30867928 2.70739727 2.81424946 1.73205081 1.44222051\n",
      " 1.6583124  2.58263431 2.5        1.03923048 1.55563492 1.\n",
      " 1.82482876 1.52643375 2.54950976 0.57445626 0.5        0.91104336\n",
      " 2.53377189 1.70880075 0.41231056 2.67768557 2.12132034 2.4657656\n",
      " 2.72396769 2.79821372 2.48394847 0.9591663  2.29128785 0.81853528\n",
      " 2.16101828 2.64575131 0.76157731 2.         2.43310501 0.8660254\n",
      " 2.51594913 2.61342687 2.63058929 2.59807621 1.87082869 2.2737634\n",
      " 2.14009346 2.32808935 2.41453929 0.         0.28284271 1.8493242\n",
      " 2.2181073  2.1023796  2.25388553 2.04205779 1.78044938 2.36220236\n",
      " 2.38117618 2.1977261  2.01990099 2.17944947 2.76947648 1.80277564\n",
      " 2.91547595 1.75499288 1.91572441 2.78388218 2.06155281 2.95803989\n",
      " 1.89208879]\n",
      "\n",
      "person_level\n",
      "['PG03' 'PG06' 'PG05' 'PG04' 'PG07' 'PG02' 'PG01' 'PG08']\n",
      "\n",
      "job_duration_in_current_person_level\n",
      "[1.35277493 1.2922848  2.30867928 1.         2.82842712 2.12132034\n",
      " 2.34520788 2.23606798 1.11803399 1.32287566 1.08166538 1.38564065\n",
      " 1.22474487 1.15325626 2.44948974 1.25698051 1.41421356 1.60623784\n",
      " 0.         1.87082869 1.47309199 2.54950976 1.5        1.19163753\n",
      " 1.58113883 0.70710678 2.         1.73205081 1.68226038 0.64807407\n",
      " 1.44222051 1.63401346 1.6583124  1.03923048 1.55563492 1.82482876\n",
      " 1.52643375 0.57445626 0.5        0.91104336 1.70880075 0.41231056\n",
      " 0.9591663  0.81853528 2.61342687 2.16101828 0.76157731 2.29128785\n",
      " 0.8660254  0.28284271 1.8493242  2.5        2.2181073  2.4657656\n",
      " 2.38117618 2.76947648 2.01990099 2.53377189 2.14009346 1.78044938\n",
      " 1.80277564 2.70739727 2.1977261  2.32808935 2.51594913 2.78388218\n",
      " 2.63058929 2.2737634  1.93649167 2.06155281 2.81424946 2.36220236]\n",
      "\n",
      "job_duration_in_current_branch\n",
      "[1.73205081 1.03923048 1.78044938 1.38564065 0.70710678 1.11803399\n",
      " 2.1023796  1.58113883 0.41231056 1.22474487 0.64807407 1.35277493\n",
      " 1.19163753 1.68226038 1.15325626 1.41421356 1.47309199 1.55563492\n",
      " 1.5        0.         2.12132034 0.91104336 0.8660254  1.82482876\n",
      " 1.70880075 1.8493242  1.         1.08166538 1.52643375 0.9591663\n",
      " 0.5        1.44222051 1.80277564 0.28284271 1.60623784 1.6583124\n",
      " 1.32287566 0.57445626 1.75499288 1.63401346 1.87082869 2.1977261\n",
      " 1.25698051 0.81853528 2.         1.2922848  1.91572441 2.2737634\n",
      " 1.93649167 0.76157731 1.95703858 1.97989899 1.89208879 2.06155281\n",
      " 2.41453929 2.01990099 2.23606798 2.34520788 2.38117618 2.25388553\n",
      " 2.04205779 2.14009346 2.67768557 2.30867928 2.32808935 2.17944947\n",
      " 2.0808652  2.2181073  2.29128785]\n",
      "\n",
      "Employee_type\n",
      "['RM_type_A' 'RM_type_C' 'RM_type_B']\n",
      "\n",
      "gender\n",
      "[2 1]\n",
      "\n",
      "age\n",
      "[1985 1989 1970 1967 1965 1971 1969 1968 1991 1966 1993 1980 1974 1988\n",
      " 1990 1994 1964 1996 1986 1977 1976 1975 1995 1963 1992 1981 1987 1973\n",
      " 1979 1978 1972 1984 1983 1982 1997]\n",
      "\n",
      "marital_status_maried(Y/N)\n",
      "['Y' 'N']\n",
      "\n",
      "number_of_dependences\n",
      "[1 0 2 3 4 5 7]\n",
      "\n",
      "Education_level\n",
      "['level_0' 'level_1' 'level_2' 'level_3' 'level_4' 'level_5']\n",
      "\n",
      "GPA\n",
      "[2.860e+00 7.280e+00 0.000e+00 7.200e+00 3.010e+00 4.190e+00 2.960e+00\n",
      " 8.300e+00 6.820e+00 7.820e+00 7.000e+00 8.690e+00 4.500e+01 4.529e+01\n",
      " 4.483e+01 8.100e+00 3.073e+01 4.357e+01 6.180e+00 3.212e+01 7.500e+01\n",
      " 5.306e+01 2.587e+01 7.490e+00 1.340e+01 6.360e+00 4.303e+01 8.400e+00\n",
      " 3.900e+00 2.200e+01 1.550e+02 3.630e+01 4.735e+01 4.456e+01 6.600e+01\n",
      " 1.343e+01 2.830e+00 2.950e+00 3.020e+00 3.140e+00 3.070e+00 3.320e+00\n",
      " 3.270e+00 3.080e+00 3.000e+00 3.290e+00 3.240e+00 3.300e+00 3.530e+00\n",
      " 3.040e+00 3.380e+00 3.190e+00 2.920e+00 3.130e+00 3.210e+00 2.900e+00\n",
      " 3.110e+00 3.030e+00 2.930e+00 2.910e+00 3.120e+00 2.850e+00 2.820e+00\n",
      " 3.050e+00 3.100e+00 3.230e+00 3.180e+00 3.260e+00 2.810e+00 2.940e+00\n",
      " 3.090e+00 2.570e+00 2.870e+00 2.890e+00 3.460e+00 3.520e+00 2.740e+00\n",
      " 2.790e+00 3.780e+00 3.750e+00 2.710e+00 3.390e+00 3.160e+00 2.770e+00\n",
      " 3.150e+00 3.430e+00 3.330e+00 3.710e+00 3.360e+00 3.650e+00 3.250e+00\n",
      " 3.450e+00 3.560e+00 3.760e+00 3.850e+00 3.610e+00 3.470e+00 2.990e+00\n",
      " 3.670e+00 3.200e+00 3.590e+00 2.760e+00 3.690e+00 2.980e+00 2.880e+00\n",
      " 2.730e+00 3.660e+00 2.670e+00 2.530e+00 3.500e+00 2.780e+00 2.800e+00\n",
      " 3.060e+00 3.700e+00 3.280e+00 2.970e+00 3.800e+00 2.750e+00 2.540e+00\n",
      " 2.550e+00 3.410e+00 3.310e+00 2.700e+00 2.690e+00 2.630e+00 3.820e+00\n",
      " 2.510e+00 3.580e+00 3.550e+00 3.370e+00 2.660e+00 3.630e+00 3.510e+00\n",
      " 3.350e+00 2.840e+00 3.770e+00 3.340e+00 3.490e+00 2.720e+00 2.620e+00\n",
      " 3.730e+00 2.500e+00 2.000e+00 3.540e+00 3.600e+00 3.170e+00 3.570e+00\n",
      " 2.560e+00 3.440e+00 3.740e+00 3.420e+00 3.680e+00 3.400e+00 3.620e+00\n",
      " 3.640e+00 3.220e+00 2.640e+00 2.680e+00 2.650e+00 2.590e+00 3.790e+00\n",
      " 3.970e+00 2.370e+00 2.930e+02 3.480e+00 2.600e+00 2.450e+00 3.930e+00\n",
      " 2.850e+02 2.090e+00 3.920e+00 2.250e+00 3.890e+00 2.420e+00 3.910e+00\n",
      " 3.840e+00 3.030e+02 3.720e+00 3.270e+02 2.430e+00 3.000e-01 3.880e+00\n",
      " 3.810e+00 3.180e+02 2.610e+00 3.830e+00 3.300e+02 2.320e+00 3.170e+02\n",
      " 2.180e+00 3.150e+02 3.130e+02 3.010e+02 3.310e+02 2.100e+00 3.860e+00\n",
      " 2.480e+00 2.330e+00 2.050e+00 3.250e+02 2.580e+00 1.800e+02 2.800e+02\n",
      " 3.020e+02 2.820e+02 3.200e+02 2.440e+00 2.310e+00 3.870e+00 2.070e+00\n",
      " 3.220e+02 2.060e+00 2.210e+00 3.680e+02 3.780e+02 2.520e+00]\n",
      "\n",
      "year_graduated\n",
      "[2011 2007 1989 1987 1985 1990 1988 2009 1999 1992 2008 2012 2013 1983\n",
      " 1986 2004 2015 1995 1996 1993 2006 2016 2005 1994 1984 1982 1998 1991\n",
      " 2010 2000 2014 2003 2018 2001 2002 2017 1997 2019]\n",
      "\n",
      "job_duration_from_training\n",
      "[ 4 28 29 30  3  5  6 24  2 27 34 31  7 18 22 25 23 26 36 20 32 19 15  8\n",
      " 16 17 14 13 12 21 33]\n",
      "\n",
      "branch_rotation\n",
      "[ 2  4 10 11  9  7  8  6  3  5 13  1 12 14 19 15 17 16 22]\n",
      "\n",
      "job_rotation\n",
      "[ 3  9  6  8  2  4  5  7 10 11  1 12 13 14 15]\n",
      "\n",
      "assign_of_otherposition\n",
      "[ 2  0  6  4  1  7 17 11  5  3  9  8 12 16 10 14 19 13 18 15 22 29 27 20\n",
      " 24 21]\n",
      "\n",
      "annual leave\n",
      "[ 3  0  2  4  8  9 11  5 10  6  1  7 15 13 14 19 12 16 20 18 21]\n",
      "\n",
      "sick_leaves\n",
      "[ 0  1 10  4  3  5  6  2 11 14 17  7  9  8 13 12 15 23 20 16 46 21 18 19\n",
      " 77 30 28 22 55 29 26 37 47 32 36 31 27 53 25]\n",
      "\n",
      "Last_achievement_%\n",
      "[ 46.37  47.68  40.73 ...  39.    14.95 100.48]\n",
      "\n",
      "Achievement_above_100%_during3quartal\n",
      "[0. 1. 2. 3.]\n",
      "\n",
      "Best Performance\n",
      "[0 1]\n",
      "\n"
     ]
    }
   ],
   "source": [
    "for i in df_train.columns:\n",
    "  print(i)\n",
    "  print(df_train[i].unique())\n",
    "  print()"
   ]
  },
  {
   "cell_type": "markdown",
   "metadata": {
    "id": "XF8puXJpg3r4"
   },
   "source": [
    "###Label encoder"
   ]
  },
  {
   "cell_type": "code",
   "execution_count": 7,
   "metadata": {
    "id": "13SmDy2aLD_Q"
   },
   "outputs": [],
   "source": [
    "from sklearn.preprocessing import LabelEncoder"
   ]
  },
  {
   "cell_type": "code",
   "execution_count": 8,
   "metadata": {
    "id": "tVw2hzCKK_P1"
   },
   "outputs": [],
   "source": [
    "class MultiColumnLabelEncoder:\n",
    "    def __init__(self,columns = None):\n",
    "        self.columns = columns # array of column names to encode\n",
    "\n",
    "    def fit(self,X,y=None):\n",
    "        return self # not relevant here\n",
    "\n",
    "    def transform(self,X):\n",
    "        '''\n",
    "        Transforms columns of X specified in self.columns using\n",
    "        LabelEncoder(). If no columns specified, transforms all\n",
    "        columns in X.\n",
    "        '''\n",
    "        output = X.copy()\n",
    "        if self.columns is not None:\n",
    "            for col in self.columns:\n",
    "                output[col] = LabelEncoder().fit_transform(output[col])\n",
    "        else:\n",
    "            for colname,col in output.iteritems():\n",
    "                output[colname] = LabelEncoder().fit_transform(col)\n",
    "        return output\n",
    "\n",
    "    def fit_transform(self,X,y=None):\n",
    "        return self.fit(X,y).transform(X)"
   ]
  },
  {
   "cell_type": "code",
   "execution_count": 9,
   "metadata": {
    "id": "oHJyFvo8LQ1k"
   },
   "outputs": [],
   "source": [
    "df_baru = MultiColumnLabelEncoder(columns=df_train.select_dtypes(exclude=[np.number])).fit_transform(df_train)"
   ]
  },
  {
   "cell_type": "code",
   "execution_count": 10,
   "metadata": {
    "colab": {
     "base_uri": "https://localhost:8080/"
    },
    "id": "RQ2Gmed2MhW2",
    "outputId": "f962a3a1-3d8a-4d0c-b5a0-9296af040e06"
   },
   "outputs": [
    {
     "name": "stdout",
     "output_type": "stream",
     "text": [
      "<class 'pandas.core.frame.DataFrame'>\n",
      "RangeIndex: 11153 entries, 0 to 11152\n",
      "Data columns (total 22 columns):\n",
      " #   Column                                 Non-Null Count  Dtype  \n",
      "---  ------                                 --------------  -----  \n",
      " 0   job_level                              11153 non-null  int32  \n",
      " 1   job_duration_in_current_job_level      11153 non-null  float64\n",
      " 2   person_level                           11153 non-null  int32  \n",
      " 3   job_duration_in_current_person_level   11153 non-null  float64\n",
      " 4   job_duration_in_current_branch         11153 non-null  float64\n",
      " 5   Employee_type                          11153 non-null  int32  \n",
      " 6   gender                                 11153 non-null  int64  \n",
      " 7   age                                    11153 non-null  int64  \n",
      " 8   marital_status_maried(Y/N)             11153 non-null  int32  \n",
      " 9   number_of_dependences                  11153 non-null  int64  \n",
      " 10  Education_level                        11153 non-null  int32  \n",
      " 11  GPA                                    11153 non-null  float64\n",
      " 12  year_graduated                         11153 non-null  int64  \n",
      " 13  job_duration_from_training             11153 non-null  int64  \n",
      " 14  branch_rotation                        11153 non-null  int64  \n",
      " 15  job_rotation                           11153 non-null  int64  \n",
      " 16  assign_of_otherposition                11153 non-null  int64  \n",
      " 17  annual leave                           11153 non-null  int64  \n",
      " 18  sick_leaves                            11153 non-null  int64  \n",
      " 19  Last_achievement_%                     11153 non-null  float64\n",
      " 20  Achievement_above_100%_during3quartal  11153 non-null  float64\n",
      " 21  Best Performance                       11153 non-null  int64  \n",
      "dtypes: float64(6), int32(5), int64(11)\n",
      "memory usage: 1.7 MB\n"
     ]
    }
   ],
   "source": [
    "df_baru.info()"
   ]
  },
  {
   "cell_type": "markdown",
   "metadata": {
    "id": "9xRdYLDWuewG"
   },
   "source": [
    "###Find Outlier"
   ]
  },
  {
   "cell_type": "code",
   "execution_count": 11,
   "metadata": {
    "id": "CwV4fAIGy2BU"
   },
   "outputs": [],
   "source": [
    "import seaborn as sns"
   ]
  },
  {
   "cell_type": "code",
   "execution_count": 12,
   "metadata": {
    "id": "jF8MTIsSua7x"
   },
   "outputs": [],
   "source": [
    "from scipy import stats\n",
    "import numpy as np"
   ]
  },
  {
   "cell_type": "code",
   "execution_count": 13,
   "metadata": {
    "id": "UPVz9P8I2bH8"
   },
   "outputs": [
    {
     "data": {
      "image/png": "[encoded data removed]",
      "text/plain": [
       "<Figure size 1440x1080 with 20 Axes>"
      ]
     },
     "metadata": {
      "needs_background": "light"
     },
     "output_type": "display_data"
    }
   ],
   "source": [
    "plt.rcParams[\"figure.figsize\"] = [20,15]\n",
    "fig, axs = plt.subplots(4, 5)\n",
    "a = 0\n",
    "for i in range(0,4):\n",
    "  for j in range(0,5):\n",
    "    # print(i, j, a)\n",
    "    axs[i, j].boxplot(df_baru.iloc[:,a])\n",
    "    axs[i, j].set_title(df_baru.columns[a])\n",
    "    a = a+1\n"
   ]
  },
  {
   "cell_type": "markdown",
   "metadata": {
    "id": "YY4yix2ZhD3X"
   },
   "source": [
    "###define xy"
   ]
  },
  {
   "cell_type": "code",
   "execution_count": 14,
   "metadata": {
    "id": "LMFBht9JMqDV"
   },
   "outputs": [],
   "source": [
    "X = df_baru.drop('Best Performance', axis=1)\n",
    "y = df_baru['Best Performance']"
   ]
  },
  {
   "cell_type": "code",
   "execution_count": 15,
   "metadata": {
    "id": "lnJ7nDgHOAVE"
   },
   "outputs": [],
   "source": [
    "common = list(set(X.columns).intersection(set(df_test.columns)))\n",
    "X = X[common]\n",
    "df_test = df_test[common]"
   ]
  },
  {
   "cell_type": "code",
   "execution_count": 16,
   "metadata": {
    "id": "MQd3c8uvM7tj"
   },
   "outputs": [],
   "source": [
    "df_test_baru = MultiColumnLabelEncoder(columns=df_test.select_dtypes(exclude=[np.number])).fit_transform(df_test)"
   ]
  },
  {
   "cell_type": "markdown",
   "metadata": {
    "id": "7_gGiOyWjWfc"
   },
   "source": [
    "###Model"
   ]
  },
  {
   "cell_type": "code",
   "execution_count": 17,
   "metadata": {
    "id": "KLxr84bgRJJI"
   },
   "outputs": [],
   "source": [
    "from sklearn.ensemble import RandomForestClassifier\n",
    "import xgboost as xgb\n",
    "from sklearn.model_selection import cross_val_score\n",
    "from lightgbm import LGBMModel,LGBMClassifier"
   ]
  },
  {
   "cell_type": "code",
   "execution_count": 18,
   "metadata": {
    "id": "6tFpIb7iRAzG"
   },
   "outputs": [],
   "source": [
    "rf = RandomForestClassifier(n_estimators=1000)"
   ]
  },
  {
   "cell_type": "code",
   "execution_count": 19,
   "metadata": {
    "colab": {
     "base_uri": "https://localhost:8080/"
    },
    "id": "xTGrJdrGg2Q8",
    "outputId": "d84e0ef4-a7de-4dec-ff66-c27c236fe29a"
   },
   "outputs": [
    {
     "data": {
      "text/plain": [
       "RandomForestClassifier(n_estimators=1000)"
      ]
     },
     "execution_count": 19,
     "metadata": {},
     "output_type": "execute_result"
    }
   ],
   "source": [
    "rf.fit(X, y)"
   ]
  },
  {
   "cell_type": "code",
   "execution_count": 20,
   "metadata": {
    "id": "FzBo0ah3JJLi"
   },
   "outputs": [],
   "source": [
    "xgbrf = xgb.XGBRFClassifier(n_estimators=1000)"
   ]
  },
  {
   "cell_type": "code",
   "execution_count": 21,
   "metadata": {
    "colab": {
     "base_uri": "https://localhost:8080/"
    },
    "id": "QSNo4UwMgxTN",
    "outputId": "18c9dc9d-6a39-4686-9656-c2b3911d996c"
   },
   "outputs": [
    {
     "name": "stderr",
     "output_type": "stream",
     "text": [
      "D:\\Sinau\\BRI people analytic\\env\\lib\\site-packages\\xgboost\\sklearn.py:888: UserWarning: The use of label encoder in XGBClassifier is deprecated and will be removed in a future release. To remove this warning, do the following: 1) Pass option use_label_encoder=False when constructing XGBClassifier object; and 2) Encode your labels (y) as integers starting with 0, i.e. 0, 1, 2, ..., [num_class - 1].\n",
      "  warnings.warn(label_encoder_deprecation_msg, UserWarning)\n"
     ]
    },
    {
     "name": "stdout",
     "output_type": "stream",
     "text": [
      "[11:05:49] WARNING: C:/Users/Administrator/workspace/xgboost-win64_release_1.3.0/src/learner.cc:1061: Starting in XGBoost 1.3.0, the default evaluation metric used with the objective 'binary:logistic' was changed from 'error' to 'logloss'. Explicitly set eval_metric if you'd like to restore the old behavior.\n"
     ]
    },
    {
     "data": {
      "text/plain": [
       "XGBRFClassifier(base_score=0.5, booster='gbtree', colsample_bylevel=1,\n",
       "                colsample_bytree=1, gamma=0, gpu_id=-1, importance_type='gain',\n",
       "                interaction_constraints='', max_delta_step=0, max_depth=6,\n",
       "                min_child_weight=1, missing=nan, monotone_constraints='()',\n",
       "                n_estimators=1000, n_jobs=20, num_parallel_tree=1000,\n",
       "                objective='binary:logistic', random_state=0, reg_alpha=0,\n",
       "                scale_pos_weight=1, tree_method='exact', validate_parameters=1,\n",
       "                verbosity=None)"
      ]
     },
     "execution_count": 21,
     "metadata": {},
     "output_type": "execute_result"
    }
   ],
   "source": [
    "xgbrf.fit(X, y)"
   ]
  },
  {
   "cell_type": "code",
   "execution_count": 22,
   "metadata": {
    "id": "rYfQpLY1lkIK"
   },
   "outputs": [],
   "source": [
    "# lbgm = LGBMClassifier(boosting_type='gbdt', class_weight=None, colsample_bytree=1.0,\n",
    "#                importance_type='split', learning_rate=0.1, max_depth=-1,\n",
    "#                min_child_samples=20, min_child_weight=0.001, min_split_gain=0.0,\n",
    "#                n_estimators=100, n_jobs=-1, num_leaves=31, objective=None,\n",
    "#                random_state=2641, reg_alpha=0.0, reg_lambda=0.0, silent=True,\n",
    "#                subsample=1.0, subsample_for_bin=200000, subsample_freq=0)\n",
    "lbgm = LGBMClassifier(n_estimators=1000)"
   ]
  },
  {
   "cell_type": "code",
   "execution_count": 23,
   "metadata": {
    "colab": {
     "base_uri": "https://localhost:8080/"
    },
    "id": "zz8pEMTdrRn7",
    "outputId": "8b7609c7-3450-45cb-92af-1bc9aba8c997"
   },
   "outputs": [
    {
     "data": {
      "text/plain": [
       "LGBMClassifier(n_estimators=1000)"
      ]
     },
     "execution_count": 23,
     "metadata": {},
     "output_type": "execute_result"
    }
   ],
   "source": [
    "lbgm.fit(X, y)"
   ]
  },
  {
   "cell_type": "code",
   "execution_count": 25,
   "metadata": {
    "colab": {
     "base_uri": "https://localhost:8080/"
    },
    "id": "8S2_Ina2JOxG",
    "outputId": "c628adc4-eac5-41d7-dfe3-bbf43721c261"
   },
   "outputs": [
    {
     "name": "stdout",
     "output_type": "stream",
     "text": [
      "RF ROC-AUC Mean Score:  0.5604451150853593\n",
      "XGBRF ROC-AUC Mean Score:  0.5720932001649458\n",
      "LBGM ROC-AUC Mean Score:  0.5472047567123595\n"
     ]
    }
   ],
   "source": [
    "score1 = cross_val_score(rf, X, y, cv=5, scoring=\"roc_auc\", n_jobs=-1)\n",
    "score2 = cross_val_score(xgbrf, X, y, cv=5, scoring=\"roc_auc\", n_jobs=-1)\n",
    "score3 = cross_val_score(lbgm, X, y, cv=5, scoring=\"roc_auc\", n_jobs=-1)\n",
    "print(\"RF ROC-AUC Mean Score: \", np.mean(score1))\n",
    "print(\"XGBRF ROC-AUC Mean Score: \", np.mean(score2))\n",
    "print(\"LBGM ROC-AUC Mean Score: \", np.mean(score3))\n"
   ]
  },
  {
   "cell_type": "code",
   "execution_count": 37,
   "metadata": {},
   "outputs": [],
   "source": [
    "##Helper function to create submission file\n",
    "def submit(model, data_test, col, file_name):\n",
    "    result = model.predict_proba(data_test)[:,1]\n",
    "    result = pd.DataFrame(result, columns=['col'])\n",
    "    result.index.name='index'\n",
    "    result.to_csv(file_name+'.csv')"
   ]
  },
  {
   "cell_type": "code",
   "execution_count": 38,
   "metadata": {},
   "outputs": [],
   "source": [
    "submit(xgbrf, df_test_baru, 'Best Performance', 'coba1')"
   ]
  },
  {
   "cell_type": "code",
   "execution_count": null,
   "metadata": {},
   "outputs": [],
   "source": []
  },
  {
   "cell_type": "markdown",
   "metadata": {
    "id": "SD6Zo3-0mmXy"
   },
   "source": [
    "###Random Search Algorithm"
   ]
  },
  {
   "cell_type": "code",
   "execution_count": 26,
   "metadata": {
    "id": "AbjQlXa7mplB"
   },
   "outputs": [],
   "source": [
    "from sklearn.model_selection import RepeatedStratifiedKFold\n",
    "from sklearn.model_selection import RandomizedSearchCV"
   ]
  },
  {
   "cell_type": "code",
   "execution_count": 27,
   "metadata": {
    "id": "EG6AuCMEmpns"
   },
   "outputs": [],
   "source": [
    "cv = RepeatedStratifiedKFold(n_splits=10, n_repeats=3, random_state=1)"
   ]
  },
  {
   "cell_type": "markdown",
   "metadata": {
    "id": "LyXxkFrzrEcL"
   },
   "source": [
    "####Random Forest"
   ]
  },
  {
   "cell_type": "code",
   "execution_count": 28,
   "metadata": {
    "id": "GCE2uRrorPcg"
   },
   "outputs": [],
   "source": [
    "rf2= RandomForestClassifier()"
   ]
  },
  {
   "cell_type": "code",
   "execution_count": 29,
   "metadata": {
    "id": "U6IAeZLvmyTV"
   },
   "outputs": [],
   "source": [
    "space_rf = dict()\n",
    "\n",
    "space_rf['bootstrap'] = [True, False]\n",
    "space_rf['n_estimators'] = [int(x) for x in np.linspace(start = 100, stop = 2000, num = 10)]\n",
    "space_rf['criterion'] = ['gini', 'entropy']\n",
    "space_rf['max_features'] = ['auto', 'sqrt', 'log2']\n",
    "space_rf['max_depth'] = [int(x) for x in np.linspace(10, 110, num = 11)]\n",
    "space_rf['min_samples_split'] = [2, 5, 10]\n",
    "space_rf['min_samples_leaf'] = [1, 2, 4]"
   ]
  },
  {
   "cell_type": "code",
   "execution_count": 35,
   "metadata": {
    "colab": {
     "base_uri": "https://localhost:8080/"
    },
    "id": "kNMljDEamprD",
    "outputId": "0d657426-ae6d-49f7-f2b1-6dbe8d34a459"
   },
   "outputs": [],
   "source": [
    "search_rf = RandomizedSearchCV(rf2, space_rf, n_iter=500, scoring='roc_auc', n_jobs=-1, cv=cv, random_state=1, verbose=1)"
   ]
  },
  {
   "cell_type": "code",
   "execution_count": 36,
   "metadata": {},
   "outputs": [
    {
     "name": "stdout",
     "output_type": "stream",
     "text": [
      "Fitting 30 folds for each of 500 candidates, totalling 15000 fits\n"
     ]
    }
   ],
   "source": [
    "rf_rsa = search_rf.fit(X, y)"
   ]
  },
  {
   "cell_type": "code",
   "execution_count": 37,
   "metadata": {},
   "outputs": [
    {
     "name": "stdout",
     "output_type": "stream",
     "text": [
      "Best Score: 0.5850632839217766\n",
      "Best Hyperparameters: {'n_estimators': 944, 'min_samples_split': 5, 'min_samples_leaf': 4, 'max_features': 'log2', 'max_depth': 30, 'criterion': 'entropy', 'bootstrap': True}\n"
     ]
    }
   ],
   "source": [
    "print('Best Score: %s' % rf_rsa.best_score_)\n",
    "print('Best Hyperparameters: %s' % rf_rsa.best_params_)"
   ]
  },
  {
   "cell_type": "raw",
   "metadata": {},
   "source": [
    "Model 1\n",
    "Best Score: 0.5850632839217766\n",
    "Best Hyperparameters: {'n_estimators': 944, 'min_samples_split': 5, 'min_samples_leaf': 4, 'max_features': 'log2', 'max_depth': 30, 'criterion': 'entropy', 'bootstrap': True}"
   ]
  },
  {
   "cell_type": "code",
   "execution_count": null,
   "metadata": {},
   "outputs": [],
   "source": [
    "submit(rf_rsa, df_test_baru, 'Best Performance', 'rf_rsa_m1')"
   ]
  },
  {
   "cell_type": "markdown",
   "metadata": {},
   "source": [
    "####XGBRF"
   ]
  },
  {
   "cell_type": "code",
   "execution_count": 28,
   "metadata": {},
   "outputs": [],
   "source": [
    "xgbrf2 = xgb.XGBRFClassifier()"
   ]
  },
  {
   "cell_type": "code",
   "execution_count": 29,
   "metadata": {},
   "outputs": [],
   "source": [
    "space_xgbrf = dict()\n",
    "space_xgbrf['n_estimators'] = [10, 100, 1000]\n",
    "space_xgbrf['learning_rate'] = [0.001, 0.01, 0.1]\n",
    "space_xgbrf['subsample'] = [0.5, 0.7, 1.0]\n",
    "\n",
    "# max_depth = [3, 7, 9]"
   ]
  },
  {
   "cell_type": "code",
   "execution_count": 30,
   "metadata": {
    "id": "6qnxY3GHmpuD"
   },
   "outputs": [],
   "source": [
    "search_xgbrf = RandomizedSearchCV(xgbrf2, space_xgbrf, n_iter=500, scoring='roc_auc', n_jobs=-1, cv=cv, random_state=1, verbose=1)"
   ]
  },
  {
   "cell_type": "code",
   "execution_count": 33,
   "metadata": {},
   "outputs": [
    {
     "name": "stderr",
     "output_type": "stream",
     "text": [
      "D:\\Sinau\\BRI people analytic\\env\\lib\\site-packages\\sklearn\\model_selection\\_search.py:285: UserWarning: The total space of parameters 27 is smaller than n_iter=500. Running 27 iterations. For exhaustive searches, use GridSearchCV.\n",
      "  warnings.warn(\n"
     ]
    },
    {
     "name": "stdout",
     "output_type": "stream",
     "text": [
      "Fitting 30 folds for each of 27 candidates, totalling 810 fits\n"
     ]
    },
    {
     "name": "stderr",
     "output_type": "stream",
     "text": [
      "D:\\Sinau\\BRI people analytic\\env\\lib\\site-packages\\xgboost\\sklearn.py:888: UserWarning: The use of label encoder in XGBClassifier is deprecated and will be removed in a future release. To remove this warning, do the following: 1) Pass option use_label_encoder=False when constructing XGBClassifier object; and 2) Encode your labels (y) as integers starting with 0, i.e. 0, 1, 2, ..., [num_class - 1].\n",
      "  warnings.warn(label_encoder_deprecation_msg, UserWarning)\n"
     ]
    }
   ],
   "source": [
    "result_xgbrf2 = search_xgbrf.fit(X, y, eval_metric='logloss')"
   ]
  },
  {
   "cell_type": "code",
   "execution_count": 35,
   "metadata": {},
   "outputs": [
    {
     "name": "stdout",
     "output_type": "stream",
     "text": [
      "Best Score: 0.5865366658028073\n",
      "Best Hyperparameters: {'subsample': 0.5, 'n_estimators': 1000, 'learning_rate': 0.001}\n"
     ]
    }
   ],
   "source": [
    "print('Best Score: %s' % result_xgbrf2.best_score_)\n",
    "print('Best Hyperparameters: %s' % result_xg2brf.best_params_)"
   ]
  },
  {
   "cell_type": "code",
   "execution_count": null,
   "metadata": {},
   "outputs": [],
   "source": [
    "# submit(result_xgbrf2, df_test_baru, 'Best Performance', 'rf_rsa_m1')"
   ]
  },
  {
   "cell_type": "markdown",
   "metadata": {},
   "source": [
    "##lgbmclassifier"
   ]
  },
  {
   "cell_type": "code",
   "execution_count": 40,
   "metadata": {},
   "outputs": [],
   "source": [
    "# lgbm2 = LGBMClassifier()"
   ]
  },
  {
   "cell_type": "code",
   "execution_count": 39,
   "metadata": {},
   "outputs": [],
   "source": [
    "# space_lgmb = dict()\n",
    "# space_lgmb['n_estimators'] = [10, 100, 1000]\n",
    "# space_lgmb['learning_rate'] = [0.001, 0.01, 0.1]\n",
    "# space_lgmb['subsample'] = [0.5, 0.7, 1.0]\n",
    "\n",
    "# # max_depth = [3, 7, 9]"
   ]
  },
  {
   "cell_type": "code",
   "execution_count": null,
   "metadata": {},
   "outputs": [],
   "source": []
  },
  {
   "cell_type": "code",
   "execution_count": null,
   "metadata": {},
   "outputs": [],
   "source": []
  },
  {
   "cell_type": "code",
   "execution_count": 43,
   "metadata": {
    "colab": {
     "base_uri": "https://localhost:8080/"
    },
    "id": "ExfTQARXi4Jo",
    "outputId": "66d8c873-1b77-4bbc-d84d-8f4b48bf6fef"
   },
   "outputs": [
    {
     "name": "stdout",
     "output_type": "stream",
     "text": [
      "Successfully submitted to BRI Data Hackathon - People Analytics\n"
     ]
    },
    {
     "name": "stderr",
     "output_type": "stream",
     "text": [
      "\n",
      "  0%|          | 0.00/150k [00:00<?, ?B/s]\n",
      " 53%|#####3    | 80.0k/150k [00:00<00:00, 688kB/s]\n",
      "100%|##########| 150k/150k [00:00<00:00, 266kB/s] \n",
      "100%|##########| 150k/150k [00:06<00:00, 23.5kB/s]\n"
     ]
    }
   ],
   "source": [
    "!kaggle competitions submit -c bri-data-hackathon-pa -f \"D:\\Sinau\\BRI people analytic\\rf_rsa_m1.csv\" -m \"submit rf rsa m1\""
   ]
  }
 ],
 "metadata": {
  "colab": {
   "collapsed_sections": [],
   "name": "people analytic.ipynb",
   "provenance": [],
   "toc_visible": true
  },
  "kernelspec": {
   "display_name": "Python 3",
   "language": "python",
   "name": "python3"
  },
  "language_info": {
   "codemirror_mode": {
    "name": "ipython",
    "version": 3
   },
   "file_extension": ".py",
   "mimetype": "text/x-python",
   "name": "python",
   "nbconvert_exporter": "python",
   "pygments_lexer": "ipython3",
   "version": "3.8.7"
  },
  "toc-autonumbering": true,
  "toc-showcode": false,
  "toc-showmarkdowntxt": true,
  "toc-showtags": true
 },
 "nbformat": 4,
 "nbformat_minor": 4
}
